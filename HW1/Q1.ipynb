{
 "cells": [
  {
   "cell_type": "code",
   "execution_count": 3,
   "metadata": {},
   "outputs": [],
   "source": [
    "def neuron(X,W):\n",
    "    net = X[0]*W[0] + X[1]*W[1]\n",
    "    if(net < 2):\n",
    "        Y = 0\n",
    "    else:\n",
    "        Y = 1\n",
    "    return Y"
   ]
  },
  {
   "cell_type": "code",
   "execution_count": 4,
   "metadata": {},
   "outputs": [],
   "source": [
    "def fullAdder(X1,X2):\n",
    "    Z1 = neuron([X1[0],X2[0]],[2,-1])\n",
    "    Z2 = neuron([X1[0],X2[0]],[-1,2])\n",
    "    Q0 = neuron([Z1,Z2],[2,2])\n",
    "    \n",
    "    Z3 = neuron([X1[0],X2[0]],[1,1])\n",
    "    Z4 = neuron([X1[1],X2[1]],[2,-1])\n",
    "    Z5 = neuron([X1[1],X2[1]],[-1,2])\n",
    "    Z6 = neuron([Z4,Z5],[2,2])\n",
    "    Z7 = neuron([Z3,Z6],[2,-1])\n",
    "    Z8 = neuron([Z3,Z6],[-1,2])\n",
    "    Q1 = neuron([Z7,Z8],[2,2])\n",
    "    \n",
    "    Z9 = neuron([X1[0],X2[0]],[1,1])\n",
    "    Z10 = neuron([X1[1],X2[1]],[2,-1])\n",
    "    Z11 = neuron([X1[1],X2[1]],[-1,2])\n",
    "    Z12 = neuron([X1[1],X2[1]],[1,1])\n",
    "    Z13 = neuron([Z10,Z11],[2,2])\n",
    "    Z14 = neuron([Z9,Z13],[1,1])\n",
    "    CO = neuron([Z14,Z12],[2,2])\n",
    "    \n",
    "    return CO,Q1,Q0"
   ]
  },
  {
   "cell_type": "code",
   "execution_count": 16,
   "metadata": {},
   "outputs": [
    {
     "name": "stdout",
     "output_type": "stream",
     "text": [
      "00 + 00 = 0 0 0\n",
      "00 + 01 = 0 0 1\n",
      "00 + 10 = 0 1 0\n",
      "00 + 11 = 0 1 1\n",
      "01 + 00 = 0 0 1\n",
      "01 + 01 = 0 1 0\n",
      "01 + 10 = 0 1 1\n",
      "01 + 11 = 1 0 0\n",
      "10 + 00 = 0 1 0\n",
      "10 + 01 = 0 1 1\n",
      "10 + 10 = 1 0 0\n",
      "10 + 11 = 1 0 1\n",
      "11 + 00 = 0 1 1\n",
      "11 + 01 = 1 0 0\n",
      "11 + 10 = 1 0 1\n",
      "11 + 11 = 1 1 0\n"
     ]
    }
   ],
   "source": [
    "# 00 + 00\n",
    "print('00 + 00 =',fullAdder([0,0],[0,0])[0],fullAdder([0,0],[0,0])[1],fullAdder([0,0],[0,0])[2])\n",
    "print('00 + 01 =',fullAdder([0,0],[1,0])[0],fullAdder([0,0],[1,0])[1],fullAdder([0,0],[1,0])[2])\n",
    "print('00 + 10 =',fullAdder([0,0],[0,1])[0],fullAdder([0,0],[0,1])[1],fullAdder([0,0],[0,1])[2])\n",
    "print('00 + 11 =',fullAdder([0,0],[1,1])[0],fullAdder([0,0],[1,1])[1],fullAdder([0,0],[1,1])[2])\n",
    "print('01 + 00 =',fullAdder([1,0],[0,0])[0],fullAdder([1,0],[0,0])[1],fullAdder([1,0],[0,0])[2])\n",
    "print('01 + 01 =',fullAdder([1,0],[1,0])[0],fullAdder([1,0],[1,0])[1],fullAdder([1,0],[1,0])[2])\n",
    "print('01 + 10 =',fullAdder([1,0],[0,1])[0],fullAdder([1,0],[0,1])[1],fullAdder([1,0],[0,1])[2])\n",
    "print('01 + 11 =',fullAdder([1,0],[1,1])[0],fullAdder([1,0],[1,1])[1],fullAdder([1,0],[1,1])[2])\n",
    "print('10 + 00 =',fullAdder([0,1],[0,0])[0],fullAdder([0,1],[0,0])[1],fullAdder([0,1],[0,0])[2])\n",
    "print('10 + 01 =',fullAdder([0,1],[1,0])[0],fullAdder([0,1],[1,0])[1],fullAdder([0,1],[1,0])[2])\n",
    "print('10 + 10 =',fullAdder([0,1],[0,1])[0],fullAdder([0,1],[0,1])[1],fullAdder([0,1],[0,1])[2])\n",
    "print('10 + 11 =',fullAdder([0,1],[1,1])[0],fullAdder([0,1],[1,1])[1],fullAdder([0,1],[1,1])[2])\n",
    "print('11 + 00 =',fullAdder([1,1],[0,0])[0],fullAdder([1,1],[0,0])[1],fullAdder([1,1],[0,0])[2])\n",
    "print('11 + 01 =',fullAdder([1,1],[1,0])[0],fullAdder([1,1],[1,0])[1],fullAdder([1,1],[1,0])[2])\n",
    "print('11 + 10 =',fullAdder([1,1],[0,1])[0],fullAdder([1,1],[0,1])[1],fullAdder([1,1],[0,1])[2])\n",
    "print('11 + 11 =',fullAdder([1,1],[1,1])[0],fullAdder([1,1],[1,1])[1],fullAdder([1,1],[1,1])[2])"
   ]
  }
 ],
 "metadata": {
  "kernelspec": {
   "display_name": "Python 3",
   "language": "python",
   "name": "python3"
  },
  "language_info": {
   "codemirror_mode": {
    "name": "ipython",
    "version": 3
   },
   "file_extension": ".py",
   "mimetype": "text/x-python",
   "name": "python",
   "nbconvert_exporter": "python",
   "pygments_lexer": "ipython3",
   "version": "3.7.1"
  }
 },
 "nbformat": 4,
 "nbformat_minor": 2
}
