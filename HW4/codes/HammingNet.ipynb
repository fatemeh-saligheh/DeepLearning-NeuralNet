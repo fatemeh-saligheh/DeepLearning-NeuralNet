{
 "cells": [
  {
   "cell_type": "code",
   "execution_count": 4,
   "metadata": {},
   "outputs": [],
   "source": [
    "import numpy as np\n",
    "e1 = [ 1,-1, 1,-1, 1,-1]\n",
    "e2 = [-1, 1,-1, 1,-1, 1]\n",
    "e3 = [ 1, 1, 1, 1, 1, 1]\n",
    "\n",
    "V = [ [ 1,-1, 1, 1,-1,1],\n",
    "      [-1, 1, 1,-1,1,-1],\n",
    "      [1, 1, 1,-1,-1,-1],\n",
    "      [-1,-1,-1, 1, 1,1],\n",
    "      [ 1, 1, 1, 1, 1 ,1],\n",
    "      [-1,-1,1,-1,-1,-1],\n",
    "      [-1,-1,-1,1,-1,-1],\n",
    "      [ 1, 1,-1,-1, 1, 1],\n",
    "      [ 1, 1,-1, 1, 1, 1],\n",
    "      [ 1, 1, 1,-1, 1, 1]]\n",
    "V = np.array(V)"
   ]
  },
  {
   "cell_type": "code",
   "execution_count": 5,
   "metadata": {},
   "outputs": [],
   "source": [
    "W = [[0.5,-0.5,0.5],\n",
    "     [-0.5,0.5,0.5],\n",
    "     [0.5,-0.5,0.5],\n",
    "     [-0.5,0.5,0.5],\n",
    "     [0.5,-0.5,0.5],\n",
    "     [-0.5,0.5,0.5]]\n",
    "W = np.array(W)\n",
    "b = 6/2"
   ]
  },
  {
   "cell_type": "code",
   "execution_count": 6,
   "metadata": {},
   "outputs": [],
   "source": [
    "import numpy as np\n",
    "def MaxNet(x):\n",
    "\n",
    "    E = 0.15\n",
    "    w = [[1,-0.15,-0.15],\n",
    "         [-0.15,1,-0.15],\n",
    "         [-0.15,-0.15,1]]\n",
    "    w = np.array(w)\n",
    "\n",
    "\n",
    "    cond = True\n",
    "    a = np.copy(x)\n",
    "\n",
    "    while cond:\n",
    "        a_last = np.copy(a)\n",
    "        for i in range(len(a)):\n",
    "            sumj = 0\n",
    "            for j in range(len(a)):\n",
    "                if i != j:\n",
    "                    sumj = sumj + a_last[j]\n",
    "            if a_last[i] - E * sumj <= 0:\n",
    "                a[i] = 0\n",
    "            else:\n",
    "                a[i] = a_last[i] - E * sumj\n",
    "        print(a)\n",
    "        n = np.count_nonzero(a == 0, axis = 0)\n",
    "        if(3 - n == 1):\n",
    "            cond = False \n",
    "    return np.where(a != 0)[0][0] + 1"
   ]
  },
  {
   "cell_type": "code",
   "execution_count": 7,
   "metadata": {},
   "outputs": [
    {
     "name": "stdout",
     "output_type": "stream",
     "text": [
      "[1.95 1.95 3.1 ]\n",
      "[1.1925 1.1925 2.515 ]\n",
      "[0.636375 0.636375 2.15725 ]\n",
      "[0.21733125 0.21733125 1.9663375 ]\n",
      "[0.         0.         1.90113813]\n",
      "[3.25 0.95 2.1 ]\n",
      "[2.7925 0.1475 1.47  ]\n",
      "[2.549875 0.       1.029   ]\n",
      "[2.395525   0.         0.64651875]\n",
      "[2.29854719 0.         0.28719   ]\n",
      "[2.25546869 0.         0.        ]\n",
      "[3.25 0.95 2.1 ]\n",
      "[2.7925 0.1475 1.47  ]\n",
      "[2.549875 0.       1.029   ]\n",
      "[2.395525   0.         0.64651875]\n",
      "[2.29854719 0.         0.28719   ]\n",
      "[2.25546869 0.         0.        ]\n",
      "[0.95 3.25 2.1 ]\n",
      "[0.1475 2.7925 1.47  ]\n",
      "[0.       2.549875 1.029   ]\n",
      "[0.         2.395525   0.64651875]\n",
      "[0.         2.29854719 0.28719   ]\n",
      "[0.         2.25546869 0.        ]\n",
      "[1.65 1.65 5.1 ]\n",
      "[0.6375 0.6375 4.605 ]\n",
      "[0.      0.      4.41375]\n",
      "[3.55 1.25 0.1 ]\n",
      "[3.3475 0.7025 0.    ]\n",
      "[3.242125 0.200375 0.      ]\n",
      "[3.21206875 0.         0.        ]\n",
      "[1.25 3.55 0.1 ]\n",
      "[0.7025 3.3475 0.    ]\n",
      "[0.200375 3.242125 0.      ]\n",
      "[0.         3.21206875 0.        ]\n",
      "[1.95 1.95 3.1 ]\n",
      "[1.1925 1.1925 2.515 ]\n",
      "[0.636375 0.636375 2.15725 ]\n",
      "[0.21733125 0.21733125 1.9663375 ]\n",
      "[0.         0.         1.90113813]\n",
      "[0.65 2.95 4.1 ]\n",
      "[0.     2.2375 3.56  ]\n",
      "[0.       1.7035   3.224375]\n",
      "[0.         1.21984375 2.96885   ]\n",
      "[0.         0.77451625 2.78587344]\n",
      "[0.         0.35663523 2.669696  ]\n",
      "[0.         0.         2.61620071]\n",
      "[2.95 0.65 4.1 ]\n",
      "[2.2375 0.     3.56  ]\n",
      "[1.7035   0.       3.224375]\n",
      "[1.21984375 0.         2.96885   ]\n",
      "[0.77451625 0.         2.78587344]\n",
      "[0.35663523 0.         2.669696  ]\n",
      "[0.         0.         2.61620071]\n"
     ]
    }
   ],
   "source": [
    "result = []\n",
    "for v in V :\n",
    "    nodes = []\n",
    "    for j in range(W.shape[1]):\n",
    "        sumj = 0\n",
    "        for i in range(W.shape[0]):\n",
    "             sumj = sumj + v[i]*W[i][j]\n",
    "        nodes.append(b + sumj)\n",
    "    result.append('Y' + str(MaxNet(np.array(nodes))))"
   ]
  },
  {
   "cell_type": "code",
   "execution_count": 8,
   "metadata": {},
   "outputs": [
    {
     "data": {
      "text/plain": [
       "['Y3', 'Y1', 'Y1', 'Y2', 'Y3', 'Y1', 'Y2', 'Y3', 'Y3', 'Y3']"
      ]
     },
     "execution_count": 8,
     "metadata": {},
     "output_type": "execute_result"
    }
   ],
   "source": [
    "result"
   ]
  },
  {
   "cell_type": "code",
   "execution_count": null,
   "metadata": {},
   "outputs": [],
   "source": []
  }
 ],
 "metadata": {
  "kernelspec": {
   "display_name": "Python 3",
   "language": "python",
   "name": "python3"
  },
  "language_info": {
   "codemirror_mode": {
    "name": "ipython",
    "version": 3
   },
   "file_extension": ".py",
   "mimetype": "text/x-python",
   "name": "python",
   "nbconvert_exporter": "python",
   "pygments_lexer": "ipython3",
   "version": "3.7.1"
  }
 },
 "nbformat": 4,
 "nbformat_minor": 2
}
