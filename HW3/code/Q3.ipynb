{
 "cells": [
  {
   "cell_type": "code",
   "execution_count": 1,
   "metadata": {},
   "outputs": [],
   "source": [
    "S= [1,1,1,-1]"
   ]
  },
  {
   "cell_type": "markdown",
   "metadata": {},
   "source": [
    "# part1"
   ]
  },
  {
   "cell_type": "code",
   "execution_count": 2,
   "metadata": {},
   "outputs": [],
   "source": [
    "import numpy as np\n",
    "W = np.outer(S,S) - np.identity(4)"
   ]
  },
  {
   "cell_type": "code",
   "execution_count": 3,
   "metadata": {},
   "outputs": [
    {
     "data": {
      "text/plain": [
       "array([[ 0.,  1.,  1., -1.],\n",
       "       [ 1.,  0.,  1., -1.],\n",
       "       [ 1.,  1.,  0., -1.],\n",
       "       [-1., -1., -1.,  0.]])"
      ]
     },
     "execution_count": 3,
     "metadata": {},
     "output_type": "execute_result"
    }
   ],
   "source": [
    "W"
   ]
  },
  {
   "cell_type": "markdown",
   "metadata": {},
   "source": [
    "# part2"
   ]
  },
  {
   "cell_type": "code",
   "execution_count": 6,
   "metadata": {},
   "outputs": [
    {
     "name": "stdout",
     "output_type": "stream",
     "text": [
      "False\n",
      "False\n",
      "False\n",
      "False\n"
     ]
    }
   ],
   "source": [
    "def testLoss(C):\n",
    "    xC = (np.array(C)).dot(np.array(W))\n",
    "    tC = np.sign(xC)\n",
    "    comparison = tC == S\n",
    "    return comparison.all()\n",
    "\n",
    "print(testLoss([1,0,0,0]))\n",
    "print(testLoss([0,1,0,0]))\n",
    "print(testLoss([0,0,1,0]))\n",
    "print(testLoss([0,0,0,-1]))"
   ]
  },
  {
   "cell_type": "code",
   "execution_count": 10,
   "metadata": {},
   "outputs": [
    {
     "name": "stdout",
     "output_type": "stream",
     "text": [
      "True\n",
      "True\n",
      "True\n",
      "True\n",
      "True\n",
      "True\n"
     ]
    }
   ],
   "source": [
    "print(testLoss([1,1,0,0]))\n",
    "print(testLoss([0,1,1,0]))\n",
    "print(testLoss([0,0,1,-1]))\n",
    "print(testLoss([1,0,0,-1]))\n",
    "print(testLoss([1,0,1,0]))\n",
    "print(testLoss([0,1,0,-1]))"
   ]
  },
  {
   "cell_type": "markdown",
   "metadata": {},
   "source": [
    "# part3"
   ]
  },
  {
   "cell_type": "code",
   "execution_count": 11,
   "metadata": {},
   "outputs": [
    {
     "name": "stdout",
     "output_type": "stream",
     "text": [
      "False\n",
      "False\n",
      "False\n",
      "False\n"
     ]
    }
   ],
   "source": [
    "def testnoise(C):\n",
    "    xC = (np.array(C)).dot(np.array(W))\n",
    "    tC = np.sign(xC)\n",
    "    comparison = tC == S\n",
    "    return comparison.all()\n",
    "\n",
    "print(testnoise([ 1,-1,-1, 1]))\n",
    "print(testnoise([-1, 1,-1, 1]))\n",
    "print(testnoise([-1,-1, 1, 1]))\n",
    "print(testnoise([-1,-1,-1,-1]))"
   ]
  },
  {
   "cell_type": "code",
   "execution_count": 12,
   "metadata": {},
   "outputs": [
    {
     "name": "stdout",
     "output_type": "stream",
     "text": [
      "False\n",
      "False\n",
      "False\n",
      "False\n",
      "False\n",
      "False\n"
     ]
    }
   ],
   "source": [
    "print(testnoise([1,1,-1,1]))\n",
    "print(testnoise([-1,1,1,1]))\n",
    "print(testnoise([-1,-1,1,-1]))\n",
    "print(testnoise([1,-1,-1,-1]))\n",
    "print(testnoise([1,-1,1,1]))\n",
    "print(testnoise([-1,1,-1,-1]))"
   ]
  },
  {
   "cell_type": "code",
   "execution_count": 13,
   "metadata": {},
   "outputs": [
    {
     "name": "stdout",
     "output_type": "stream",
     "text": [
      "True\n",
      "True\n",
      "True\n",
      "True\n"
     ]
    }
   ],
   "source": [
    "print(testnoise([1,1,1,1]))\n",
    "print(testnoise([1,1,-1,-1]))\n",
    "print(testnoise([1,-1,1,-1]))\n",
    "print(testnoise([-1,1,1,-1]))"
   ]
  },
  {
   "cell_type": "markdown",
   "metadata": {},
   "source": [
    "# part4 \n",
    "using discrete hopfield for part1,2,3"
   ]
  },
  {
   "cell_type": "code",
   "execution_count": 18,
   "metadata": {},
   "outputs": [],
   "source": [
    "#part1\n",
    "#initialize weight to store model\n",
    "\n",
    "import numpy as np\n",
    "S = [1,1,1,-1]\n",
    "W = np.outer(S,S) - np.identity(4)"
   ]
  },
  {
   "cell_type": "code",
   "execution_count": 16,
   "metadata": {},
   "outputs": [],
   "source": [
    "import random\n",
    "def DisHopfieldNet(x,W):\n",
    "#     print('x = ',x)\n",
    "    y = np.copy(x)\n",
    "    index = list(np.array(range(0,len(x))))\n",
    "    randindex = random.sample(index, len(index))\n",
    "#     y_next = np.copy(y)\n",
    "#     print(randindex)\n",
    "    for i in randindex:\n",
    "        sumy = 0\n",
    "        for j in range(len(y)) :\n",
    "            sumy = sumy + y[j]* int(W[j][i])\n",
    "        y_in_i = x[i] + sumy\n",
    "#         print(y_in_i)\n",
    "        if y_in_i > 0:\n",
    "            y[i] = 1\n",
    "        elif  y_in_i < 0:\n",
    "            y[i] = -1\n",
    "    return y\n",
    "#     if y == y_next:\n",
    "#         break\n",
    "#     y = y_next\n",
    "                "
   ]
  },
  {
   "cell_type": "code",
   "execution_count": 19,
   "metadata": {},
   "outputs": [
    {
     "name": "stdout",
     "output_type": "stream",
     "text": [
      "input : [1,0,0,0] . output :  [ 1  1  1 -1]\n",
      "input : [0,1,0,0] . output :  [ 1  1  1 -1]\n",
      "input : [0,0,1,0] . output :  [ 1  1  1 -1]\n",
      "input : [0,0,0,-1] . output :  [ 1  1  1 -1]\n"
     ]
    }
   ],
   "source": [
    "print(\"input : [1,0,0,0] . output : \",DisHopfieldNet([1,0,0,0],W))\n",
    "print(\"input : [0,1,0,0] . output : \",DisHopfieldNet([0,1,0,0],W))\n",
    "print(\"input : [0,0,1,0] . output : \",DisHopfieldNet([0,0,1,0],W))\n",
    "print(\"input : [0,0,0,-1] . output : \",DisHopfieldNet([0,0,0,-1],W))"
   ]
  },
  {
   "cell_type": "code",
   "execution_count": 23,
   "metadata": {},
   "outputs": [
    {
     "name": "stdout",
     "output_type": "stream",
     "text": [
      "input : [1,-1,-1,1] . output :  [-1 -1 -1  1]\n",
      "input : [-1,1,-1,1] . output :  [-1 -1 -1  1]\n",
      "input : [-1,-1,1,1] . output :  [-1 -1 -1  1]\n",
      "input : [-1,-1,-1,-1] . output :  [-1 -1 -1  1]\n"
     ]
    }
   ],
   "source": [
    "print(\"input : [1,-1,-1,1] . output : \",DisHopfieldNet([1,-1,-1,1],W))\n",
    "print(\"input : [-1,1,-1,1] . output : \",DisHopfieldNet([-1,1,-1,1],W))\n",
    "print(\"input : [-1,-1,1,1] . output : \",DisHopfieldNet([-1,-1,1,1],W))\n",
    "print(\"input : [-1,-1,-1,-1] . output : \",DisHopfieldNet([-1,-1,-1,-1],W))"
   ]
  },
  {
   "cell_type": "code",
   "execution_count": 22,
   "metadata": {},
   "outputs": [
    {
     "name": "stdout",
     "output_type": "stream",
     "text": [
      "input : [1,1,-1,1] . output :  [ 1  1 -1  1]\n",
      "input : [-1,1,1,1] . output :  [-1  1  1  1]\n",
      "input : [-1,-1,1,-1] . output :  [-1 -1  1 -1]\n",
      "input : [1,-1,-1,-1] . output :  [ 1 -1 -1 -1]\n",
      "input : [1,-1,1,1] . output :  [ 1 -1  1  1]\n",
      "input : [-1,1,-1,-1] . output :  [-1  1 -1 -1]\n"
     ]
    }
   ],
   "source": [
    "print(\"input : [1,1,-1,1] . output : \",DisHopfieldNet([1,1,-1,1],W))\n",
    "print(\"input : [-1,1,1,1] . output : \",DisHopfieldNet([-1,1,1,1],W))\n",
    "print(\"input : [-1,-1,1,-1] . output : \",DisHopfieldNet([-1,-1,1,-1],W))\n",
    "print(\"input : [1,-1,-1,-1] . output : \",DisHopfieldNet([1,-1,-1,-1],W))\n",
    "print(\"input : [1,-1,1,1] . output : \",DisHopfieldNet([1,-1,1,1],W))\n",
    "print(\"input : [-1,1,-1,-1] . output : \",DisHopfieldNet([-1,1,-1,-1],W))"
   ]
  },
  {
   "cell_type": "code",
   "execution_count": 24,
   "metadata": {},
   "outputs": [
    {
     "name": "stdout",
     "output_type": "stream",
     "text": [
      "input : [1,1,1,1] . output :  [ 1  1  1 -1]\n",
      "input : [1,1,-1,-1] . output :  [ 1  1  1 -1]\n",
      "input : [1,-1,1,-1] . output :  [ 1  1  1 -1]\n",
      "input : [-1,1,1,-1] . output :  [ 1  1  1 -1]\n"
     ]
    }
   ],
   "source": [
    "print(\"input : [1,1,1,1] . output : \",DisHopfieldNet([1,1,1,1],W))\n",
    "print(\"input : [1,1,-1,-1] . output : \",DisHopfieldNet([1,1,-1,-1],W))\n",
    "print(\"input : [1,-1,1,-1] . output : \",DisHopfieldNet([1,-1,1,-1],W))\n",
    "print(\"input : [-1,1,1,-1] . output : \",DisHopfieldNet([-1,1,1,-1],W))"
   ]
  },
  {
   "cell_type": "markdown",
   "metadata": {},
   "source": [
    "# part5"
   ]
  },
  {
   "cell_type": "code",
   "execution_count": 25,
   "metadata": {},
   "outputs": [
    {
     "data": {
      "text/plain": [
       "True"
      ]
     },
     "execution_count": 25,
     "metadata": {},
     "output_type": "execute_result"
    }
   ],
   "source": [
    "S2 = [-1,-1,1,-1]\n",
    "S3 = [1,1,-1,1]\n",
    "S4 = [-1,-1,-1,1]\n",
    "\n",
    "W2 = np.outer(S2,S2) + np.outer(S3,S3) + np.outer(S4,S4) + np.outer(S,S) - 4*np.identity(4)\n",
    "\n",
    "xA = DisHopfieldNet(S,W2)\n",
    "tA = np.sign(xA)\n",
    "comparison = tA == S\n",
    "xA = DisHopfieldNet(S2,W2)\n",
    "tA = np.sign(xA)\n",
    "comparison2 = tA == S2\n",
    "xA = DisHopfieldNet(S3,W2)\n",
    "tA = np.sign(xA)\n",
    "comparison3 = tA == S3\n",
    "xA = DisHopfieldNet(S4,W2)\n",
    "tA = np.sign(xA)\n",
    "comparison4 = tA == S4\n",
    "\n",
    "comparison.all() and comparison2.all() and comparison3.all() and comparison4.all()"
   ]
  },
  {
   "cell_type": "code",
   "execution_count": 51,
   "metadata": {},
   "outputs": [
    {
     "data": {
      "text/plain": [
       "True"
      ]
     },
     "execution_count": 51,
     "metadata": {},
     "output_type": "execute_result"
    }
   ],
   "source": [
    "S  = [ 1, 1, 1,-1]\n",
    "S2 = [-1,-1, 1,-1]\n",
    "S3 = [ 1, 1,-1, 1]\n",
    "S4 = [-1,-1,-1, 1]\n",
    "S5 = [-1,-1,-1,-1]\n",
    "# S6 = [-1,-1,-1,-1]\n",
    "W2 = np.outer(S5,S5) + np.outer(S2,S2) + np.outer(S3,S3) + np.outer(S4,S4) + np.outer(S,S) - 5*np.identity(4) #+ np.outer(S6,S6)\n",
    "\n",
    "xA = DisHopfieldNet(S,W2)\n",
    "tA = np.sign(xA)\n",
    "comparison = tA == S\n",
    "xA = DisHopfieldNet(S2,W2)\n",
    "tA = np.sign(xA)\n",
    "comparison2 = tA == S2\n",
    "xA = DisHopfieldNet(S3,W2)\n",
    "tA = np.sign(xA)\n",
    "comparison3 = tA == S3\n",
    "xA = DisHopfieldNet(S4,W2)\n",
    "tA = np.sign(xA)\n",
    "comparison4 = tA == S4\n",
    "xA = DisHopfieldNet(S5,W2)\n",
    "tA = np.sign(xA)\n",
    "comparison5 = tA == S5\n",
    "# xA = DisHopfieldNet(S6,W2)\n",
    "# tA = np.sign(xA)\n",
    "# comparison6 = tA == S6\n",
    "\n",
    "comparison.all() and comparison2.all() and comparison3.all() and comparison4.all() and comparison5.all() #and comparison6.all()"
   ]
  },
  {
   "cell_type": "code",
   "execution_count": null,
   "metadata": {},
   "outputs": [],
   "source": []
  }
 ],
 "metadata": {
  "kernelspec": {
   "display_name": "Python 3",
   "language": "python",
   "name": "python3"
  },
  "language_info": {
   "codemirror_mode": {
    "name": "ipython",
    "version": 3
   },
   "file_extension": ".py",
   "mimetype": "text/x-python",
   "name": "python",
   "nbconvert_exporter": "python",
   "pygments_lexer": "ipython3",
   "version": "3.7.1"
  }
 },
 "nbformat": 4,
 "nbformat_minor": 2
}
