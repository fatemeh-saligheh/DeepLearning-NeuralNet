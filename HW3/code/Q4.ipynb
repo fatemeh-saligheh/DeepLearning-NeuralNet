{
 "cells": [
  {
   "cell_type": "code",
   "execution_count": 1,
   "metadata": {},
   "outputs": [],
   "source": [
    "import numpy as np\n",
    "import cv2"
   ]
  },
  {
   "cell_type": "code",
   "execution_count": 2,
   "metadata": {},
   "outputs": [],
   "source": [
    "xPlane = cv2.imread('imPlane.png',0)\n",
    "xPlane = (2*np.sign(-1*xPlane)+np.ones([18,16])).astype(int)\n",
    "\n",
    "yPlane = cv2.imread('plane.png',0)\n",
    "yPlane = (2*np.sign(-1*yPlane)+np.ones([8,35])).astype(int)\n",
    "\n",
    "xTank = cv2.imread('imTank.png',0)\n",
    "xTank = (2*np.sign(-1*xTank)+np.ones([18,16])).astype(int)\n",
    "\n",
    "yTank = cv2.imread('tank.png',0)\n",
    "yTank = (2*np.sign(-1*yTank)+np.ones([8,35])).astype(int)"
   ]
  },
  {
   "cell_type": "code",
   "execution_count": 3,
   "metadata": {},
   "outputs": [],
   "source": [
    "xPlane = xPlane.reshape(18*16)\n",
    "yPlane = yPlane.reshape(8*35)\n",
    "xTank = xTank.reshape(18*16)\n",
    "yTank = yTank.reshape(8*35)"
   ]
  },
  {
   "cell_type": "code",
   "execution_count": 4,
   "metadata": {},
   "outputs": [],
   "source": [
    "W = np.outer(xPlane,yPlane) + np.outer(xTank,yTank)"
   ]
  },
  {
   "cell_type": "code",
   "execution_count": 5,
   "metadata": {},
   "outputs": [],
   "source": [
    "def BAM(x,y):\n",
    "    flag = True\n",
    "    while flag :\n",
    "        y_pre = np.copy(y)\n",
    "        x_pre = np.copy(x)\n",
    "        for j in range(len(y)):\n",
    "            y_in_j = 0\n",
    "            for i in range(len(x)):\n",
    "                y_in_j = y_in_j + x[i]*W[i][j]\n",
    "\n",
    "            if y_in_j > 0:\n",
    "                y[j] = 1\n",
    "            elif y_in_j < 0:\n",
    "                y[j] = -1\n",
    "                \n",
    "        for i in range(len(x)):\n",
    "            x_in_i = 0\n",
    "            for j in range(len(y)):\n",
    "                x_in_i = x_in_i + y[j]*W[i][j]\n",
    "            if x_in_i > 0:\n",
    "                x[i] = 1\n",
    "            elif x_in_i < 0:\n",
    "                x[i] = -1\n",
    "        if((x == x_pre).all and (y ==  y_pre).all):\n",
    "            flag = False\n",
    "    return x,y "
   ]
  },
  {
   "cell_type": "code",
   "execution_count": 6,
   "metadata": {},
   "outputs": [
    {
     "data": {
      "text/plain": [
       "True"
      ]
     },
     "execution_count": 6,
     "metadata": {},
     "output_type": "execute_result"
    }
   ],
   "source": [
    "x,y =BAM(np.copy(xPlane),np.copy(yPlane))\n",
    "\n",
    "comparison = x == xPlane\n",
    "comparison2 = y == yPlane\n",
    "comparison.all() and comparison2.all()"
   ]
  },
  {
   "cell_type": "code",
   "execution_count": 22,
   "metadata": {},
   "outputs": [
    {
     "name": "stdout",
     "output_type": "stream",
     "text": [
      "Populating the interactive namespace from numpy and matplotlib\n",
      "main input pattern output from BAM network :\n"
     ]
    },
    {
     "data": {
      "image/png": "[encoded data removed]",
      "text/plain": [
       "<Figure size 432x288 with 1 Axes>"
      ]
     },
     "metadata": {
      "needs_background": "light"
     },
     "output_type": "display_data"
    },
    {
     "name": "stdout",
     "output_type": "stream",
     "text": [
      "main output pattern output from BAM network :\n"
     ]
    },
    {
     "data": {
      "image/png": "[encoded data removed]",
      "text/plain": [
       "<Figure size 432x288 with 1 Axes>"
      ]
     },
     "metadata": {
      "needs_background": "light"
     },
     "output_type": "display_data"
    }
   ],
   "source": [
    "%pylab inline\n",
    "import matplotlib.pyplot as plt\n",
    "import matplotlib.image as mpimg\n",
    "import numpy as np\n",
    "from PIL import Image\n",
    "print('main input pattern output from BAM network :')\n",
    "img1 = Image.fromarray(np.uint8(x.reshape(18,16)*255),'L')\n",
    "plt.figure()\n",
    "plt.imshow(img1)\n",
    "plt.show()\n",
    "print('main output pattern output from BAM network :')\n",
    "img2 = Image.fromarray(np.uint8(y.reshape(8,35)*255),'L')\n",
    "plt.figure()\n",
    "plt.imshow(img2)\n",
    "plt.show()"
   ]
  },
  {
   "cell_type": "code",
   "execution_count": 23,
   "metadata": {},
   "outputs": [
    {
     "data": {
      "text/plain": [
       "True"
      ]
     },
     "execution_count": 23,
     "metadata": {},
     "output_type": "execute_result"
    }
   ],
   "source": [
    "x,y =BAM(np.copy(xTank),np.copy(yTank))\n",
    "\n",
    "comparison = x == xTank\n",
    "comparison2 = y == yTank\n",
    "comparison.all() and comparison2.all()"
   ]
  },
  {
   "cell_type": "code",
   "execution_count": 24,
   "metadata": {},
   "outputs": [
    {
     "name": "stdout",
     "output_type": "stream",
     "text": [
      "main input pattern output from BAM network :\n"
     ]
    },
    {
     "data": {
      "image/png": "[encoded data removed]",
      "text/plain": [
       "<Figure size 432x288 with 1 Axes>"
      ]
     },
     "metadata": {
      "needs_background": "light"
     },
     "output_type": "display_data"
    },
    {
     "name": "stdout",
     "output_type": "stream",
     "text": [
      "main output pattern output from BAM network :\n"
     ]
    },
    {
     "data": {
      "image/png": "[encoded data removed]",
      "text/plain": [
       "<Figure size 432x288 with 1 Axes>"
      ]
     },
     "metadata": {
      "needs_background": "light"
     },
     "output_type": "display_data"
    }
   ],
   "source": [
    "print('main input pattern output from BAM network :')\n",
    "img1 = Image.fromarray(np.uint8(x.reshape(18,16)*255),'L')\n",
    "plt.figure()\n",
    "plt.imshow(img1)\n",
    "plt.show()\n",
    "print('main output pattern output from BAM network :')\n",
    "img2 = Image.fromarray(np.uint8(y.reshape(8,35)*255),'L')\n",
    "plt.figure()\n",
    "plt.imshow(img2)\n",
    "plt.show()"
   ]
  },
  {
   "cell_type": "code",
   "execution_count": 25,
   "metadata": {},
   "outputs": [],
   "source": [
    "import random\n",
    "def createDisturb(inp,loss):\n",
    "    x = np.copy(inp)\n",
    "    index = random.sample(range(len(x)), int(loss*len(x)))\n",
    "    for i in index:\n",
    "        x[i] = x[i]*-1\n",
    "    return x"
   ]
  },
  {
   "cell_type": "code",
   "execution_count": 26,
   "metadata": {},
   "outputs": [],
   "source": [
    "distXPlane = createDisturb(xPlane,0.3)\n",
    "distYPlane = createDisturb(yPlane,0.3)\n",
    "distXTank = createDisturb(xTank,0.3)\n",
    "distYTank = createDisturb(yTank,0.3)"
   ]
  },
  {
   "cell_type": "code",
   "execution_count": 28,
   "metadata": {},
   "outputs": [
    {
     "name": "stdout",
     "output_type": "stream",
     "text": [
      "disturb pattern of plane input pattern :\n"
     ]
    },
    {
     "data": {
      "image/png": "[encoded data removed]",
      "text/plain": [
       "<Figure size 432x288 with 1 Axes>"
      ]
     },
     "metadata": {
      "needs_background": "light"
     },
     "output_type": "display_data"
    },
    {
     "name": "stdout",
     "output_type": "stream",
     "text": [
      "disturb pattern of plane output pattern :\n"
     ]
    },
    {
     "data": {
      "image/png": "[encoded data removed]",
      "text/plain": [
       "<Figure size 432x288 with 1 Axes>"
      ]
     },
     "metadata": {
      "needs_background": "light"
     },
     "output_type": "display_data"
    }
   ],
   "source": [
    "print('disturb pattern of plane input pattern :')\n",
    "img1 = Image.fromarray(np.uint8(distXPlane.reshape(18,16)*255),'L')\n",
    "plt.figure()\n",
    "plt.imshow(img1)\n",
    "plt.show()\n",
    "print('disturb pattern of plane output pattern :')\n",
    "img2 = Image.fromarray(np.uint8(distYPlane.reshape(8,35)*255),'L')\n",
    "plt.figure()\n",
    "plt.imshow(img2)\n",
    "plt.show()"
   ]
  },
  {
   "cell_type": "code",
   "execution_count": 29,
   "metadata": {},
   "outputs": [
    {
     "data": {
      "text/plain": [
       "True"
      ]
     },
     "execution_count": 29,
     "metadata": {},
     "output_type": "execute_result"
    }
   ],
   "source": [
    "x,y =BAM(np.copy(distXPlane),np.copy(distYPlane))\n",
    "\n",
    "comparison = x == xPlane\n",
    "comparison2 = y == yPlane\n",
    "comparison.all() and comparison2.all()"
   ]
  },
  {
   "cell_type": "code",
   "execution_count": 31,
   "metadata": {},
   "outputs": [
    {
     "name": "stdout",
     "output_type": "stream",
     "text": [
      "x , output from BAM network :\n"
     ]
    },
    {
     "data": {
      "image/png": "[encoded data removed]",
      "text/plain": [
       "<Figure size 432x288 with 1 Axes>"
      ]
     },
     "metadata": {
      "needs_background": "light"
     },
     "output_type": "display_data"
    },
    {
     "name": "stdout",
     "output_type": "stream",
     "text": [
      "y , output from BAM network :\n"
     ]
    },
    {
     "data": {
      "image/png": "[encoded data removed]",
      "text/plain": [
       "<Figure size 432x288 with 1 Axes>"
      ]
     },
     "metadata": {
      "needs_background": "light"
     },
     "output_type": "display_data"
    }
   ],
   "source": [
    "print('x , output from BAM network :')\n",
    "img1 = Image.fromarray(np.uint8(x.reshape(18,16)*255),'L')\n",
    "plt.figure()\n",
    "plt.imshow(img1)\n",
    "plt.show()\n",
    "print('y , output from BAM network :')\n",
    "img2 = Image.fromarray(np.uint8(y.reshape(8,35)*255),'L')\n",
    "plt.figure()\n",
    "plt.imshow(img2)\n",
    "plt.show()"
   ]
  },
  {
   "cell_type": "code",
   "execution_count": 33,
   "metadata": {},
   "outputs": [
    {
     "name": "stdout",
     "output_type": "stream",
     "text": [
      "disturb pattern of tank input pattern :\n"
     ]
    },
    {
     "data": {
      "image/png": "[encoded data removed]",
      "text/plain": [
       "<Figure size 432x288 with 1 Axes>"
      ]
     },
     "metadata": {
      "needs_background": "light"
     },
     "output_type": "display_data"
    },
    {
     "name": "stdout",
     "output_type": "stream",
     "text": [
      "disturb pattern of tank output pattern :\n"
     ]
    },
    {
     "data": {
      "image/png": "[encoded data removed]",
      "text/plain": [
       "<Figure size 432x288 with 1 Axes>"
      ]
     },
     "metadata": {
      "needs_background": "light"
     },
     "output_type": "display_data"
    }
   ],
   "source": [
    "print('disturb pattern of tank input pattern :')\n",
    "img1 = Image.fromarray(np.uint8(distXTank.reshape(18,16)*255),'L')\n",
    "plt.figure()\n",
    "plt.imshow(img1)\n",
    "plt.show()\n",
    "print('disturb pattern of tank output pattern :')\n",
    "img2 = Image.fromarray(np.uint8(distYTank.reshape(8,35)*255),'L')\n",
    "plt.figure()\n",
    "plt.imshow(img2)\n",
    "plt.show()"
   ]
  },
  {
   "cell_type": "code",
   "execution_count": 34,
   "metadata": {},
   "outputs": [
    {
     "data": {
      "text/plain": [
       "True"
      ]
     },
     "execution_count": 34,
     "metadata": {},
     "output_type": "execute_result"
    }
   ],
   "source": [
    "x,y =BAM(np.copy(distXTank),np.copy(distYTank))\n",
    "\n",
    "comparison = x == xTank\n",
    "comparison2 = y == yTank\n",
    "comparison.all() and comparison2.all()"
   ]
  },
  {
   "cell_type": "code",
   "execution_count": 35,
   "metadata": {},
   "outputs": [
    {
     "name": "stdout",
     "output_type": "stream",
     "text": [
      "x , output from BAM network :\n"
     ]
    },
    {
     "data": {
      "image/png": "[encoded data removed]",
      "text/plain": [
       "<Figure size 432x288 with 1 Axes>"
      ]
     },
     "metadata": {
      "needs_background": "light"
     },
     "output_type": "display_data"
    },
    {
     "name": "stdout",
     "output_type": "stream",
     "text": [
      "y , output from BAM network :\n"
     ]
    },
    {
     "data": {
      "image/png": "[encoded data removed]",
      "text/plain": [
       "<Figure size 432x288 with 1 Axes>"
      ]
     },
     "metadata": {
      "needs_background": "light"
     },
     "output_type": "display_data"
    }
   ],
   "source": [
    "print('x , output from BAM network :')\n",
    "img1 = Image.fromarray(np.uint8(x.reshape(18,16)*255),'L')\n",
    "plt.figure()\n",
    "plt.imshow(img1)\n",
    "plt.show()\n",
    "print('y , output from BAM network :')\n",
    "img2 = Image.fromarray(np.uint8(y.reshape(8,35)*255),'L')\n",
    "plt.figure()\n",
    "plt.imshow(img2)\n",
    "plt.show()"
   ]
  },
  {
   "cell_type": "code",
   "execution_count": 43,
   "metadata": {},
   "outputs": [],
   "source": [
    "def noise(n,loss):\n",
    "    trueans = 0\n",
    "    for ep in range(n):\n",
    "        char = random.randint(0,1)\n",
    "        if(char == 0):\n",
    "            distXPlane = createDisturb(xPlane,loss)\n",
    "            distYPlane = createDisturb(yPlane,loss)\n",
    "            \n",
    "            x,y =BAM(np.copy(distXPlane),np.copy(distYPlane))\n",
    "\n",
    "            comparison = x == xPlane\n",
    "            comparison2 = y == yPlane\n",
    "            \n",
    "            if (comparison.all() and comparison2.all()):\n",
    "                trueans += 1\n",
    "        if(char == 1):\n",
    "            distXTank = createDisturb(xTank,loss)\n",
    "            distYTank = createDisturb(yTank,loss)\n",
    "            \n",
    "            x,y =BAM(np.copy(distXTank),np.copy(distYTank))\n",
    "\n",
    "            comparison = x == xTank\n",
    "            comparison2 = y == yTank\n",
    "            \n",
    "            if (comparison.all() and comparison2.all()):\n",
    "                trueans += 1\n",
    "#     print('true answers in ',n,' data with noise',loss,'is ',trueans*100/n)   \n",
    "    return trueans*100/n"
   ]
  },
  {
   "cell_type": "code",
   "execution_count": 47,
   "metadata": {},
   "outputs": [
    {
     "name": "stdout",
     "output_type": "stream",
     "text": [
      "accuracy with 10% noise :  100.0\n",
      "accuracy with 20% noise :  100.0\n",
      "accuracy with 30% noise :  100.0\n",
      "accuracy with 40% noise :  99.0\n",
      "accuracy with 50% noise :  0.0\n",
      "accuracy with 70% noise :  0.0\n"
     ]
    }
   ],
   "source": [
    "print('accuracy with 10% noise : ',noise(100,0.1))\n",
    "print('accuracy with 20% noise : ',noise(100,0.2))\n",
    "print('accuracy with 30% noise : ',noise(100,0.3))\n",
    "print('accuracy with 40% noise : ',noise(100,0.4))\n",
    "print('accuracy with 50% noise : ',noise(100,0.5))\n",
    "print('accuracy with 70% noise : ',noise(100,0.7))"
   ]
  },
  {
   "cell_type": "code",
   "execution_count": 38,
   "metadata": {},
   "outputs": [
    {
     "data": {
      "text/plain": [
       "True"
      ]
     },
     "execution_count": 38,
     "metadata": {},
     "output_type": "execute_result"
    }
   ],
   "source": [
    "x,y =BAM(np.copy(distXPlane),np.copy(yPlane))\n",
    "\n",
    "comparison = x == xPlane\n",
    "comparison2 = y == yPlane\n",
    "comparison.all() and comparison2.all()"
   ]
  },
  {
   "cell_type": "code",
   "execution_count": 39,
   "metadata": {},
   "outputs": [
    {
     "name": "stdout",
     "output_type": "stream",
     "text": [
      "y , output from BAM network :\n"
     ]
    },
    {
     "data": {
      "image/png": "[encoded data removed]",
      "text/plain": [
       "<Figure size 432x288 with 1 Axes>"
      ]
     },
     "metadata": {
      "needs_background": "light"
     },
     "output_type": "display_data"
    }
   ],
   "source": [
    "print('y , output from BAM network :')\n",
    "img2 = Image.fromarray(np.uint8(y.reshape(8,35)*255),'L')\n",
    "plt.figure()\n",
    "plt.imshow(img2)\n",
    "plt.show()"
   ]
  },
  {
   "cell_type": "code",
   "execution_count": 40,
   "metadata": {},
   "outputs": [
    {
     "data": {
      "text/plain": [
       "True"
      ]
     },
     "execution_count": 40,
     "metadata": {},
     "output_type": "execute_result"
    }
   ],
   "source": [
    "x,y =BAM(np.copy(distXTank),np.copy(yTank))\n",
    "\n",
    "comparison = x == xTank\n",
    "comparison2 = y == yTank\n",
    "comparison.all() and comparison2.all()"
   ]
  },
  {
   "cell_type": "code",
   "execution_count": 41,
   "metadata": {},
   "outputs": [
    {
     "name": "stdout",
     "output_type": "stream",
     "text": [
      "y , output from BAM network :\n"
     ]
    },
    {
     "data": {
      "image/png": "[encoded data removed]",
      "text/plain": [
       "<Figure size 432x288 with 1 Axes>"
      ]
     },
     "metadata": {
      "needs_background": "light"
     },
     "output_type": "display_data"
    }
   ],
   "source": [
    "print('y , output from BAM network :')\n",
    "img2 = Image.fromarray(np.uint8(y.reshape(8,35)*255),'L')\n",
    "plt.figure()\n",
    "plt.imshow(img2)\n",
    "plt.show()"
   ]
  },
  {
   "cell_type": "code",
   "execution_count": null,
   "metadata": {},
   "outputs": [],
   "source": []
  }
 ],
 "metadata": {
  "kernelspec": {
   "display_name": "Python 3",
   "language": "python",
   "name": "python3"
  },
  "language_info": {
   "codemirror_mode": {
    "name": "ipython",
    "version": 3
   },
   "file_extension": ".py",
   "mimetype": "text/x-python",
   "name": "python",
   "nbconvert_exporter": "python",
   "pygments_lexer": "ipython3",
   "version": "3.7.1"
  }
 },
 "nbformat": 4,
 "nbformat_minor": 2
}
