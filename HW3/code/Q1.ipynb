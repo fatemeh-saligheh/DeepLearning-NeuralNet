{
 "cells": [
  {
   "cell_type": "code",
   "execution_count": 43,
   "metadata": {},
   "outputs": [],
   "source": [
    "A = [[-1,-1,-1, 1,-1,-1,-1,\n",
    "     -1,-1,-1, 1,-1,-1,-1,\n",
    "     -1,-1, 1,-1, 1,-1,-1,\n",
    "     -1,-1, 1,-1, 1,-1,-1,\n",
    "     -1,-1, 1, 1, 1,-1,-1,\n",
    "     -1, 1,-1,-1,-1, 1,-1,\n",
    "     -1, 1,-1,-1,-1, 1,-1,\n",
    "      1,-1,-1,-1,-1,-1, 1,\n",
    "      1,-1,-1,-1,-1,-1, 1]]\n",
    "\n",
    "a = [[-1, 1,-1,\n",
    "       1,-1, 1,\n",
    "       1, 1, 1,\n",
    "       1,-1, 1,\n",
    "       1,-1, 1]]\n",
    "\n",
    "\n",
    "B = [[ 1, 1, 1, 1, 1,-1,-1 ,\n",
    "       1,-1,-1,-1,-1, 1,-1 ,\n",
    "       1,-1,-1,-1,-1,-1, 1 ,\n",
    "       1,-1,-1,-1,-1, 1,-1 ,\n",
    "       1, 1, 1, 1, 1,-1,-1 ,\n",
    "       1,-1,-1,-1,-1, 1,-1 ,\n",
    "       1,-1,-1,-1,-1,-1, 1 ,\n",
    "       1,-1,-1,-1,-1, 1,-1 ,\n",
    "       1, 1, 1, 1, 1,-1, 1]]\n",
    "\n",
    "b = [[ 1, 1,-1 ,\n",
    "       1,-1, 1 ,\n",
    "       1, 1,-1 ,\n",
    "       1,-1, 1 ,\n",
    "       1, 1,-1]]\n",
    "\n",
    "C = [[-1,-1, 1, 1, 1,-1,-1 ,\n",
    "      -1, 1,-1,-1,-1, 1,-1 ,\n",
    "       1,-1,-1,-1,-1,-1, 1 ,\n",
    "       1,-1,-1,-1,-1,-1,-1 ,\n",
    "       1,-1,-1,-1,-1,-1,-1 ,\n",
    "       1,-1,-1,-1,-1,-1,-1 ,\n",
    "       1,-1,-1,-1,-1,-1, 1 ,\n",
    "      -1, 1,-1,-1,-1, 1,-1 ,\n",
    "      -1,-1, 1, 1, 1,-1,-1]]\n",
    "\n",
    "c = [[ 1, 1, 1 ,\n",
    "       1,-1,-1 ,\n",
    "       1,-1,-1 ,\n",
    "       1,-1,-1 ,\n",
    "       1, 1, 1]]"
   ]
  },
  {
   "cell_type": "code",
   "execution_count": 2,
   "metadata": {},
   "outputs": [],
   "source": [
    "import numpy as np\n",
    "W = np.outer(A,a) + np.outer(B,b) + np.outer(C,c)"
   ]
  },
  {
   "cell_type": "code",
   "execution_count": 3,
   "metadata": {},
   "outputs": [
    {
     "data": {
      "text/plain": [
       "(63, 15)"
      ]
     },
     "execution_count": 3,
     "metadata": {},
     "output_type": "execute_result"
    }
   ],
   "source": [
    "W.shape"
   ]
  },
  {
   "cell_type": "code",
   "execution_count": 4,
   "metadata": {},
   "outputs": [
    {
     "data": {
      "text/plain": [
       "True"
      ]
     },
     "execution_count": 4,
     "metadata": {},
     "output_type": "execute_result"
    }
   ],
   "source": [
    "xA = (np.array(A)).dot(np.array(W))\n",
    "tA = np.sign(xA)\n",
    "comparison = tA == a\n",
    "comparison.all()"
   ]
  },
  {
   "cell_type": "code",
   "execution_count": 5,
   "metadata": {},
   "outputs": [
    {
     "data": {
      "text/plain": [
       "True"
      ]
     },
     "execution_count": 5,
     "metadata": {},
     "output_type": "execute_result"
    }
   ],
   "source": [
    "xB = (np.array(B)).dot(np.array(W))\n",
    "tB = np.sign(xB)\n",
    "comparison = tB == b\n",
    "comparison.all()"
   ]
  },
  {
   "cell_type": "code",
   "execution_count": 6,
   "metadata": {},
   "outputs": [
    {
     "data": {
      "text/plain": [
       "True"
      ]
     },
     "execution_count": 6,
     "metadata": {},
     "output_type": "execute_result"
    }
   ],
   "source": [
    "xC = (np.array(C)).dot(np.array(W))\n",
    "tC = np.sign(xC)\n",
    "comparison = tC == c\n",
    "comparison.all()"
   ]
  },
  {
   "cell_type": "code",
   "execution_count": 7,
   "metadata": {},
   "outputs": [
    {
     "data": {
      "text/plain": [
       "array([[5]])"
      ]
     },
     "execution_count": 7,
     "metadata": {},
     "output_type": "execute_result"
    }
   ],
   "source": [
    "np.array(A).dot(np.transpose(B))"
   ]
  },
  {
   "cell_type": "code",
   "execution_count": 8,
   "metadata": {},
   "outputs": [
    {
     "data": {
      "text/plain": [
       "array([[-1]])"
      ]
     },
     "execution_count": 8,
     "metadata": {},
     "output_type": "execute_result"
    }
   ],
   "source": [
    "np.array(A).dot(np.transpose(C))"
   ]
  },
  {
   "cell_type": "code",
   "execution_count": 9,
   "metadata": {},
   "outputs": [
    {
     "data": {
      "text/plain": [
       "array([[33]])"
      ]
     },
     "execution_count": 9,
     "metadata": {},
     "output_type": "execute_result"
    }
   ],
   "source": [
    "np.array(B).dot(np.transpose(C))"
   ]
  },
  {
   "cell_type": "markdown",
   "metadata": {},
   "source": [
    "# part2"
   ]
  },
  {
   "cell_type": "code",
   "execution_count": 107,
   "metadata": {},
   "outputs": [],
   "source": [
    "import random\n",
    "def noise(n,loss):\n",
    "    trueans = 0\n",
    "    for ep in range(n):\n",
    "        char = random.randint(0,2)\n",
    "        if(char == 0):\n",
    "            As = np.copy(A)\n",
    "            index = random.sample(range(len(A[0])), int(loss*len(A[0])))\n",
    "            for i in index:\n",
    "                As[0][i] = As[0][i]*-1\n",
    "            xAs = (np.array(As)).dot(np.array(W))\n",
    "            tAs = np.sign(xAs)\n",
    "            comparison = tAs == a\n",
    "            if (comparison.all()):\n",
    "                trueans += 1\n",
    "        if(char == 1):\n",
    "            Bs = np.copy(B)\n",
    "            index = random.sample(range(len(Bs[0])), int(loss*len(Bs[0])))\n",
    "            for i in index:\n",
    "                Bs[0][i] = Bs[0][i]*-1\n",
    "            xBs = (np.array(Bs)).dot(np.array(W))\n",
    "            tBs = np.sign(xBs)\n",
    "            comparison = tBs == b\n",
    "            if (comparison.all()):\n",
    "                trueans += 1\n",
    "        if(char == 2):\n",
    "            Cs = np.copy(C)\n",
    "            index = random.sample(range(len(Cs[0])), int(loss*len(Cs[0])))\n",
    "            for i in index:\n",
    "                Cs[0][i] = Cs[0][i]*-1\n",
    "            xCs = (np.array(Cs)).dot(np.array(W))\n",
    "            tCs = np.sign(xCs)\n",
    "            comparison = tCs == c\n",
    "            if (comparison.all()):\n",
    "                trueans += 1\n",
    "#     print('true answers in ',n,' data with noise',loss,'is ',trueans*100/n)   \n",
    "    return trueans*100/n"
   ]
  },
  {
   "cell_type": "code",
   "execution_count": 100,
   "metadata": {},
   "outputs": [
    {
     "name": "stdout",
     "output_type": "stream",
     "text": [
      "true answers in  1000  data with noise 0.1 is  100.0\n",
      "true answers in  1000  data with noise 0.11 is  100.0\n",
      "true answers in  1000  data with noise 0.12 is  100.0\n",
      "true answers in  1000  data with noise 0.13 is  99.9\n",
      "true answers in  1000  data with noise 0.14 is  100.0\n",
      "true answers in  1000  data with noise 0.15 is  99.6\n",
      "true answers in  1000  data with noise 0.2 is  98.7\n",
      "true answers in  1000  data with noise 0.3 is  86.4\n",
      "true answers in  1000  data with noise 0.4 is  54.0\n",
      "true answers in  1000  data with noise 0.5 is  0.0\n",
      "true answers in  1000  data with noise 0.6 is  0.0\n",
      "true answers in  1000  data with noise 0.7 is  0.0\n",
      "true answers in  1000  data with noise 0.8 is  0.0\n",
      "true answers in  1000  data with noise 0.9 is  0.0\n"
     ]
    }
   ],
   "source": [
    "\n",
    "noise(1000,0.1)\n",
    "noise(1000,0.11)\n",
    "noise(1000,0.12)\n",
    "noise(1000,0.13)\n",
    "noise(1000,0.14)\n",
    "noise(1000,0.15)\n",
    "noise(1000,0.2)\n",
    "noise(1000,0.3)\n",
    "noise(1000,0.4)\n",
    "noise(1000,0.5)\n",
    "noise(1000,0.6)\n",
    "noise(1000,0.7)\n",
    "noise(1000,0.8)\n",
    "noise(1000,0.9)"
   ]
  },
  {
   "cell_type": "markdown",
   "metadata": {},
   "source": [
    "# part3"
   ]
  },
  {
   "cell_type": "code",
   "execution_count": 105,
   "metadata": {},
   "outputs": [],
   "source": [
    "import random\n",
    "def lossInfo(n,loss):\n",
    "    trueans = 0\n",
    "    for ep in range(n):\n",
    "        char = random.randint(0,2)\n",
    "    #     print(char)\n",
    "        if(char == 0):\n",
    "            As = np.copy(A)\n",
    "            index = random.sample(range(len(A[0])), int(loss*len(A[0])))\n",
    "            for i in index:\n",
    "                As[0][i] = 0\n",
    "            xAs = (np.array(As)).dot(np.array(W))\n",
    "            tAs = np.sign(xAs)\n",
    "            comparison = tAs == a\n",
    "            if (comparison.all()):\n",
    "                trueans += 1\n",
    "        if(char == 1):\n",
    "            Bs = np.copy(B)\n",
    "            index = random.sample(range(len(Bs[0])), int(loss*len(Bs[0])))\n",
    "            for i in index:\n",
    "                Bs[0][i] = 0\n",
    "            xBs = (np.array(Bs)).dot(np.array(W))\n",
    "            tBs = np.sign(xBs)\n",
    "            comparison = tBs == b\n",
    "            if (comparison.all()):\n",
    "                trueans += 1\n",
    "        if(char == 2):\n",
    "            Cs = np.copy(C)\n",
    "            index = random.sample(range(len(Cs[0])), int(loss*len(Cs[0])))\n",
    "            for i in index:\n",
    "                Cs[0][i] = 0\n",
    "            xCs = (np.array(Cs)).dot(np.array(W))\n",
    "            tCs = np.sign(xCs)\n",
    "            comparison = tCs == c\n",
    "            if (comparison.all()):\n",
    "                trueans += 1\n",
    "    print('true answers in ',n,' data with loss',loss,'is ',trueans*100/n)   \n",
    "   "
   ]
  },
  {
   "cell_type": "code",
   "execution_count": 96,
   "metadata": {},
   "outputs": [
    {
     "name": "stdout",
     "output_type": "stream",
     "text": [
      "true answers in  1000  data with loss 0.1 is  100.0\n",
      "true answers in  1000  data with loss 0.2 is  100.0\n",
      "true answers in  1000  data with loss 0.3 is  100.0\n",
      "true answers in  1000  data with loss 0.4 is  100.0\n",
      "true answers in  1000  data with loss 0.5 is  99.5\n",
      "true answers in  1000  data with loss 0.6 is  98.2\n",
      "true answers in  1000  data with loss 0.7 is  97.2\n",
      "true answers in  1000  data with loss 0.8 is  89.3\n",
      "true answers in  1000  data with loss 0.9 is  74.5\n",
      "true answers in  1000  data with loss 0.93 is  65.3\n",
      "true answers in  1000  data with loss 0.95 is  41.6\n",
      "true answers in  1000  data with loss 0.99 is  0.0\n"
     ]
    }
   ],
   "source": [
    "\n",
    "lossInfo(1000,0.1)\n",
    "lossInfo(1000,0.2)\n",
    "lossInfo(1000,0.3)\n",
    "lossInfo(1000,0.4)\n",
    "lossInfo(1000,0.5)\n",
    "lossInfo(1000,0.6)\n",
    "lossInfo(1000,0.7)\n",
    "lossInfo(1000,0.8)\n",
    "lossInfo(1000,0.9)\n",
    "lossInfo(1000,0.93)\n",
    "lossInfo(1000,0.95)\n",
    "lossInfo(1000,0.99)\n"
   ]
  },
  {
   "cell_type": "markdown",
   "metadata": {},
   "source": [
    "# part5"
   ]
  },
  {
   "cell_type": "code",
   "execution_count": 109,
   "metadata": {
    "scrolled": true
   },
   "outputs": [
    {
     "name": "stdout",
     "output_type": "stream",
     "text": [
      "mean 10% :  99.98899999999996\n",
      "mean 11% :  99.995\n",
      "mean 12% :  99.93699999999994\n",
      "mean 13% :  99.88799999999992\n",
      "mean 14% :  99.88799999999992\n",
      "mean 15% :  99.60000000000002\n",
      "mean 16% :  99.36599999999997\n",
      "mean 17% :  99.42399999999996\n"
     ]
    }
   ],
   "source": [
    "x = 0\n",
    "for i in range(100):\n",
    "    x = x + noise(1000,0.1)\n",
    "print(\"mean 10% : \",x/100)\n",
    "\n",
    "x = 0\n",
    "for i in range(100):\n",
    "    x = x + noise(1000,0.11)\n",
    "print(\"mean 11% : \",x/100)\n",
    "    \n",
    "x = 0\n",
    "for i in range(100):\n",
    "    x = x + noise(1000,0.12)\n",
    "print(\"mean 12% : \",x/100)\n",
    "\n",
    "x = 0\n",
    "for i in range(100):\n",
    "    x = x + noise(1000,0.13)\n",
    "print(\"mean 13% : \",x/100)\n",
    "\n",
    "x = 0\n",
    "for i in range(100):\n",
    "    x = x + noise(1000,0.14)\n",
    "print(\"mean 14% : \",x/100)\n",
    "\n",
    "x = 0\n",
    "for i in range(100):\n",
    "    x = x + noise(1000,0.15)\n",
    "print(\"mean 15% : \",x/100)\n",
    "\n",
    "x = 0\n",
    "for i in range(100):\n",
    "    x = x + noise(1000,0.16)\n",
    "print(\"mean 16% : \",x/100)\n",
    "\n",
    "x = 0\n",
    "for i in range(100):\n",
    "    x = x + noise(1000,0.17)\n",
    "print(\"mean 17% : \",x/100)"
   ]
  },
  {
   "cell_type": "code",
   "execution_count": 112,
   "metadata": {},
   "outputs": [
    {
     "name": "stdout",
     "output_type": "stream",
     "text": [
      "mean 5% :  100.0\n",
      "mean 6% :  100.0\n",
      "mean 7% :  100.0\n",
      "mean 8% :  99.99699999999999\n",
      "mean 9% :  99.99599999999998\n"
     ]
    }
   ],
   "source": [
    "x = 0\n",
    "for i in range(100):\n",
    "    x = x + noise(1000,0.05)\n",
    "print(\"mean 5% : \",x/100)\n",
    "\n",
    "x = 0\n",
    "for i in range(100):\n",
    "    x = x + noise(1000,0.06)\n",
    "print(\"mean 6% : \",x/100)\n",
    "\n",
    "x = 0\n",
    "for i in range(100):\n",
    "    x = x + noise(1000,0.07)\n",
    "print(\"mean 7% : \",x/100)\n",
    "\n",
    "x = 0\n",
    "for i in range(100):\n",
    "    x = x + noise(1000,0.08)\n",
    "print(\"mean 8% : \",x/100)\n",
    "\n",
    "x = 0\n",
    "for i in range(100):\n",
    "    x = x + noise(1000,0.09)\n",
    "print(\"mean 9% : \",x/100)"
   ]
  },
  {
   "cell_type": "code",
   "execution_count": null,
   "metadata": {},
   "outputs": [],
   "source": []
  }
 ],
 "metadata": {
  "kernelspec": {
   "display_name": "Python 3",
   "language": "python",
   "name": "python3"
  },
  "language_info": {
   "codemirror_mode": {
    "name": "ipython",
    "version": 3
   },
   "file_extension": ".py",
   "mimetype": "text/x-python",
   "name": "python",
   "nbconvert_exporter": "python",
   "pygments_lexer": "ipython3",
   "version": "3.7.1"
  }
 },
 "nbformat": 4,
 "nbformat_minor": 2
}
