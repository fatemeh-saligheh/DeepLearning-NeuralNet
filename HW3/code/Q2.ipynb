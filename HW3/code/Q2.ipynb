{
 "cells": [
  {
   "cell_type": "code",
   "execution_count": 1,
   "metadata": {},
   "outputs": [],
   "source": [
    "S= [1,1,1,-1]"
   ]
  },
  {
   "cell_type": "markdown",
   "metadata": {},
   "source": [
    "# part1"
   ]
  },
  {
   "cell_type": "code",
   "execution_count": 2,
   "metadata": {},
   "outputs": [],
   "source": [
    "import numpy as np\n",
    "W = np.outer(S,S) - np.identity(len(S))"
   ]
  },
  {
   "cell_type": "code",
   "execution_count": 3,
   "metadata": {},
   "outputs": [
    {
     "data": {
      "text/plain": [
       "array([[ 0.,  1.,  1., -1.],\n",
       "       [ 1.,  0.,  1., -1.],\n",
       "       [ 1.,  1.,  0., -1.],\n",
       "       [-1., -1., -1.,  0.]])"
      ]
     },
     "execution_count": 3,
     "metadata": {},
     "output_type": "execute_result"
    }
   ],
   "source": [
    "W"
   ]
  },
  {
   "cell_type": "markdown",
   "metadata": {},
   "source": [
    "# part2"
   ]
  },
  {
   "cell_type": "code",
   "execution_count": 4,
   "metadata": {},
   "outputs": [],
   "source": [
    "S2 = [1,1,-1,1]\n",
    "W2 = np.outer(S2,S2) + np.outer(S,S) - 2*np.identity(4)"
   ]
  },
  {
   "cell_type": "code",
   "execution_count": 5,
   "metadata": {},
   "outputs": [
    {
     "data": {
      "text/plain": [
       "array([[ 0.,  2.,  0.,  0.],\n",
       "       [ 2.,  0.,  0.,  0.],\n",
       "       [ 0.,  0.,  0., -2.],\n",
       "       [ 0.,  0., -2.,  0.]])"
      ]
     },
     "execution_count": 5,
     "metadata": {},
     "output_type": "execute_result"
    }
   ],
   "source": [
    "W2"
   ]
  },
  {
   "cell_type": "code",
   "execution_count": 8,
   "metadata": {},
   "outputs": [
    {
     "data": {
      "text/plain": [
       "True"
      ]
     },
     "execution_count": 8,
     "metadata": {},
     "output_type": "execute_result"
    }
   ],
   "source": [
    "xA = (np.array(S)).dot(np.array(W2))\n",
    "tA = np.sign(xA)\n",
    "comparison = tA == S\n",
    "\n",
    "xA = (np.array(S2)).dot(np.array(W2))\n",
    "tA = np.sign(xA)\n",
    "comparison2 = tA == S2\n",
    "comparison.all() and comparison2.all()"
   ]
  },
  {
   "cell_type": "markdown",
   "metadata": {},
   "source": [
    "# part3"
   ]
  },
  {
   "cell_type": "code",
   "execution_count": 22,
   "metadata": {},
   "outputs": [],
   "source": [
    "# S= [1,1,1,-1]\n",
    "S3 = [-1,-1,-1,1]    \n",
    "W3 = np.outer(S3,S3)  + np.outer(S,S) - 2*np.identity(4) #+ np.outer(S2,S2)"
   ]
  },
  {
   "cell_type": "code",
   "execution_count": 23,
   "metadata": {},
   "outputs": [
    {
     "data": {
      "text/plain": [
       "array([[ 0.,  2.,  2., -2.],\n",
       "       [ 2.,  0.,  2., -2.],\n",
       "       [ 2.,  2.,  0., -2.],\n",
       "       [-2., -2., -2.,  0.]])"
      ]
     },
     "execution_count": 23,
     "metadata": {},
     "output_type": "execute_result"
    }
   ],
   "source": [
    "W3"
   ]
  },
  {
   "cell_type": "code",
   "execution_count": 24,
   "metadata": {},
   "outputs": [
    {
     "data": {
      "text/plain": [
       "True"
      ]
     },
     "execution_count": 24,
     "metadata": {},
     "output_type": "execute_result"
    }
   ],
   "source": [
    "xA = (np.array(S)).dot(np.array(W3))\n",
    "tA = np.sign(xA)\n",
    "comparison = tA == S\n",
    "xA = (np.array(S3)).dot(np.array(W3))\n",
    "tA = np.sign(xA)\n",
    "comparison3 = tA == S3\n",
    "(comparison.all() and comparison3.all())"
   ]
  },
  {
   "cell_type": "markdown",
   "metadata": {},
   "source": [
    "# part4"
   ]
  },
  {
   "cell_type": "code",
   "execution_count": 12,
   "metadata": {},
   "outputs": [],
   "source": [
    "S4 = [-1,-1,1,-1]\n",
    "W4 = np.outer(S,S) + np.outer(S2,S2) + np.outer(S4,S4) - 3*np.identity(4)"
   ]
  },
  {
   "cell_type": "code",
   "execution_count": 13,
   "metadata": {},
   "outputs": [
    {
     "data": {
      "text/plain": [
       "array([[ 0.,  3., -1.,  1.],\n",
       "       [ 3.,  0., -1.,  1.],\n",
       "       [-1., -1.,  0., -3.],\n",
       "       [ 1.,  1., -3.,  0.]])"
      ]
     },
     "execution_count": 13,
     "metadata": {},
     "output_type": "execute_result"
    }
   ],
   "source": [
    "W4"
   ]
  },
  {
   "cell_type": "code",
   "execution_count": 14,
   "metadata": {},
   "outputs": [
    {
     "data": {
      "text/plain": [
       "True"
      ]
     },
     "execution_count": 14,
     "metadata": {},
     "output_type": "execute_result"
    }
   ],
   "source": [
    "xA = (np.array(S)).dot(np.array(W4))\n",
    "tA = np.sign(xA)\n",
    "comparison = tA == S\n",
    "xA = (np.array(S2)).dot(np.array(W4))\n",
    "tA = np.sign(xA)\n",
    "comparison2 = tA == S2\n",
    "xA = (np.array(S4)).dot(np.array(W4))\n",
    "tA = np.sign(xA)\n",
    "comparison4 = tA == S4\n",
    "comparison.all() and comparison2.all() and comparison4.all()"
   ]
  },
  {
   "cell_type": "code",
   "execution_count": 15,
   "metadata": {},
   "outputs": [],
   "source": [
    "S5 = [-1,-1,-1,1]\n",
    "W5 = np.outer(S,S) + np.outer(S2,S2) + np.outer(S4,S4) + np.outer(S5,S5) - 4*np.identity(4)"
   ]
  },
  {
   "cell_type": "code",
   "execution_count": 16,
   "metadata": {},
   "outputs": [
    {
     "data": {
      "text/plain": [
       "True"
      ]
     },
     "execution_count": 16,
     "metadata": {},
     "output_type": "execute_result"
    }
   ],
   "source": [
    "xA = (np.array(S)).dot(np.array(W5))\n",
    "tA = np.sign(xA)\n",
    "comparison = tA == S\n",
    "xA = (np.array(S2)).dot(np.array(W5))\n",
    "tA = np.sign(xA)\n",
    "comparison2 = tA == S2\n",
    "xA = (np.array(S4)).dot(np.array(W5))\n",
    "tA = np.sign(xA)\n",
    "comparison4 = tA == S4\n",
    "xA = (np.array(S5)).dot(np.array(W5))\n",
    "tA = np.sign(xA)\n",
    "comparison5 = tA == S5\n",
    "\n",
    "comparison.all() and comparison2.all() and comparison4.all() and comparison5.all()"
   ]
  },
  {
   "cell_type": "code",
   "execution_count": 17,
   "metadata": {},
   "outputs": [],
   "source": [
    "S6 = [1,-1,-1,-1]\n",
    "W6 = np.outer(S,S) + np.outer(S2,S2) + np.outer(S4,S4) + np.outer(S5,S5) + np.outer(S6,S6) - 5*np.identity(4)"
   ]
  },
  {
   "cell_type": "code",
   "execution_count": 18,
   "metadata": {},
   "outputs": [
    {
     "data": {
      "text/plain": [
       "False"
      ]
     },
     "execution_count": 18,
     "metadata": {},
     "output_type": "execute_result"
    }
   ],
   "source": [
    "xA = (np.array(S)).dot(np.array(W6))\n",
    "tA = np.sign(xA)\n",
    "comparison = tA == S\n",
    "xA = (np.array(S2)).dot(np.array(W6))\n",
    "tA = np.sign(xA)\n",
    "comparison2 = tA == S2\n",
    "xA = (np.array(S4)).dot(np.array(W6))\n",
    "tA = np.sign(xA)\n",
    "comparison4 = tA == S4\n",
    "xA = (np.array(S5)).dot(np.array(W6))\n",
    "tA = np.sign(xA)\n",
    "comparison5 = tA == S5\n",
    "xA = (np.array(S6)).dot(np.array(W6))\n",
    "tA = np.sign(xA)\n",
    "comparison6 = tA == S6\n",
    "\n",
    "comparison.all() and comparison2.all() and comparison4.all() and comparison5.all() and comparison6.all()"
   ]
  },
  {
   "cell_type": "markdown",
   "metadata": {},
   "source": [
    "# part5"
   ]
  },
  {
   "cell_type": "code",
   "execution_count": 28,
   "metadata": {},
   "outputs": [
    {
     "data": {
      "text/plain": [
       "True"
      ]
     },
     "execution_count": 28,
     "metadata": {},
     "output_type": "execute_result"
    }
   ],
   "source": [
    "S7 = [1,1,1,-1]\n",
    "S8 = [1,1,-1,1]\n",
    "S9 = [1,-1,1,1]\n",
    "W7 = np.outer(S7,S7) + np.outer(S8,S8) + np.outer(S9,S9)  - 3*np.identity(4)\n",
    "xA = (np.array(S7)).dot(np.array(W7))\n",
    "tA = np.sign(xA)\n",
    "comparison7 = tA == S7\n",
    "xA = (np.array(S8)).dot(np.array(W7))\n",
    "tA = np.sign(xA)\n",
    "comparison8 = tA == S8\n",
    "xA = (np.array(S9)).dot(np.array(W7))\n",
    "tA = np.sign(xA)\n",
    "comparison9 = tA == S9\n",
    "comparison7.all() and comparison8.all() and comparison9.all()"
   ]
  },
  {
   "cell_type": "code",
   "execution_count": null,
   "metadata": {},
   "outputs": [],
   "source": []
  }
 ],
 "metadata": {
  "kernelspec": {
   "display_name": "Python 3",
   "language": "python",
   "name": "python3"
  },
  "language_info": {
   "codemirror_mode": {
    "name": "ipython",
    "version": 3
   },
   "file_extension": ".py",
   "mimetype": "text/x-python",
   "name": "python",
   "nbconvert_exporter": "python",
   "pygments_lexer": "ipython3",
   "version": "3.7.1"
  }
 },
 "nbformat": 4,
 "nbformat_minor": 2
}
