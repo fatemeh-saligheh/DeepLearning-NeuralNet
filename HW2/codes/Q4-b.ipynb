{
 "cells": [
  {
   "cell_type": "code",
   "execution_count": 1,
   "metadata": {},
   "outputs": [
    {
     "name": "stderr",
     "output_type": "stream",
     "text": [
      "Using TensorFlow backend.\n"
     ]
    }
   ],
   "source": [
    "from keras.datasets import fashion_mnist\n",
    "from keras.utils import to_categorical\n",
    "import numpy as np\n",
    "import matplotlib.pyplot as plt\n",
    "from keras.models import Sequential\n",
    "from keras.layers import Dense, Dropout, Flatten,Conv2D, MaxPooling2D, Activation\n",
    "from keras.layers.normalization import BatchNormalization\n",
    "from keras import optimizers\n",
    "import keras\n",
    "from sklearn.model_selection import train_test_split\n",
    "from keras.models import Model\n",
    "from keras import layers\n",
    "import datetime\n",
    "%matplotlib inline"
   ]
  },
  {
   "cell_type": "code",
   "execution_count": 20,
   "metadata": {},
   "outputs": [],
   "source": [
    "(X_train, y_train), (X_test, y_test) = fashion_mnist.load_data()"
   ]
  },
  {
   "cell_type": "code",
   "execution_count": 21,
   "metadata": {},
   "outputs": [],
   "source": [
    "X_train = X_train.reshape(60000, 784)\n",
    "X_test = X_test.reshape(10000, 784)"
   ]
  },
  {
   "cell_type": "code",
   "execution_count": 22,
   "metadata": {},
   "outputs": [
    {
     "data": {
      "text/plain": [
       "(60000, 784)"
      ]
     },
     "execution_count": 22,
     "metadata": {},
     "output_type": "execute_result"
    }
   ],
   "source": [
    "X_train.shape"
   ]
  },
  {
   "cell_type": "code",
   "execution_count": 23,
   "metadata": {},
   "outputs": [
    {
     "data": {
      "text/plain": [
       "(10000, 784)"
      ]
     },
     "execution_count": 23,
     "metadata": {},
     "output_type": "execute_result"
    }
   ],
   "source": [
    "X_test.shape"
   ]
  },
  {
   "cell_type": "code",
   "execution_count": 24,
   "metadata": {},
   "outputs": [],
   "source": [
    "X_train = X_train.astype('float32')\n",
    "X_test = X_test.astype('float32')\n",
    "X_train /= 255\n",
    "X_test /= 255\n",
    "y_train = to_categorical(y_train)\n",
    "y_test = to_categorical(y_test)"
   ]
  },
  {
   "cell_type": "code",
   "execution_count": 39,
   "metadata": {},
   "outputs": [],
   "source": [
    "from sklearn.decomposition import PCA\n",
    "pca = PCA(n_components=100)\n",
    "pca.fit(X_train)\n",
    "pca_train_data = pca.transform(X_train)\n",
    "pca_test_data = pca.transform(X_test)"
   ]
  },
  {
   "cell_type": "code",
   "execution_count": 40,
   "metadata": {},
   "outputs": [
    {
     "data": {
      "text/plain": [
       "(60000, 100)"
      ]
     },
     "execution_count": 40,
     "metadata": {},
     "output_type": "execute_result"
    }
   ],
   "source": [
    "pca_train_data.shape"
   ]
  },
  {
   "cell_type": "code",
   "execution_count": 41,
   "metadata": {},
   "outputs": [],
   "source": [
    "pca_train_data = pca_train_data.reshape(pca_train_data.shape[0],10,10,1)\n",
    "pca_test_data = pca_test_data.reshape(pca_test_data.shape[0],10,10,1)"
   ]
  },
  {
   "cell_type": "code",
   "execution_count": 42,
   "metadata": {},
   "outputs": [
    {
     "name": "stdout",
     "output_type": "stream",
     "text": [
      "_________________________________________________________________\n",
      "Layer (type)                 Output Shape              Param #   \n",
      "=================================================================\n",
      "input_3 (InputLayer)         (None, 10, 10, 1)         0         \n",
      "_________________________________________________________________\n",
      "conv2d_3 (Conv2D)            (None, 10, 10, 64)        640       \n",
      "_________________________________________________________________\n",
      "max_pooling2d_3 (MaxPooling2 (None, 5, 5, 64)          0         \n",
      "_________________________________________________________________\n",
      "conv2d_4 (Conv2D)            (None, 5, 5, 64)          36928     \n",
      "_________________________________________________________________\n",
      "max_pooling2d_4 (MaxPooling2 (None, 2, 2, 64)          0         \n",
      "_________________________________________________________________\n",
      "flatten_2 (Flatten)          (None, 256)               0         \n",
      "_________________________________________________________________\n",
      "dense_2 (Dense)              (None, 10)                2570      \n",
      "=================================================================\n",
      "Total params: 40,138\n",
      "Trainable params: 40,138\n",
      "Non-trainable params: 0\n",
      "_________________________________________________________________\n"
     ]
    }
   ],
   "source": [
    "my_input=layers.Input(shape=(10,10,1))\n",
    "conv1=layers.Conv2D (64,3,activation='relu', padding='same',strides=1)(my_input)\n",
    "pool1=layers.MaxPool2D(pool_size=2)(conv1)\n",
    "conv2=layers.Conv2D (64,3,activation='relu', padding='same',strides=1)(pool1)\n",
    "pool2=layers.MaxPool2D(pool_size=2)(conv2)\n",
    "flat=layers.Flatten()(pool2)\n",
    "out=layers.Dense(10,activation = 'softmax')(flat)\n",
    "\n",
    "myModel=Model(my_input,out)\n",
    "\n",
    "myModel.summary()\n",
    "myModel.compile(optimizer='Adam', loss='categorical_crossentropy', metrics=['accuracy'])"
   ]
  },
  {
   "cell_type": "code",
   "execution_count": 43,
   "metadata": {},
   "outputs": [
    {
     "name": "stdout",
     "output_type": "stream",
     "text": [
      "Train on 48000 samples, validate on 12000 samples\n",
      "Epoch 1/5\n",
      "48000/48000 [==============================] - 20s 411us/step - loss: 0.5848 - acc: 0.7979 - val_loss: 0.4456 - val_acc: 0.8433\n",
      "Epoch 2/5\n",
      "48000/48000 [==============================] - 18s 377us/step - loss: 0.4054 - acc: 0.8541 - val_loss: 0.4055 - val_acc: 0.8545\n",
      "Epoch 3/5\n",
      "48000/48000 [==============================] - 19s 385us/step - loss: 0.3649 - acc: 0.8693 - val_loss: 0.3825 - val_acc: 0.8625\n",
      "Epoch 4/5\n",
      "48000/48000 [==============================] - 20s 412us/step - loss: 0.3377 - acc: 0.8775 - val_loss: 0.3779 - val_acc: 0.8658\n",
      "Epoch 5/5\n",
      "48000/48000 [==============================] - 17s 344us/step - loss: 0.3156 - acc: 0.8852 - val_loss: 0.3807 - val_acc: 0.8657\n",
      "Total_time_training: 0:01:33.161613\n"
     ]
    }
   ],
   "source": [
    "start=datetime.datetime.now()\n",
    "trained_model=myModel.fit(pca_train_data,y_train , batch_size=32 , epochs=5 , validation_split=0.2)\n",
    "end=datetime.datetime.now()\n",
    "Total_time_training=end-start\n",
    "\n",
    "print ('Total_time_training:',Total_time_training )\n",
    "\n",
    "history=trained_model.history"
   ]
  },
  {
   "cell_type": "code",
   "execution_count": 44,
   "metadata": {},
   "outputs": [
    {
     "name": "stdout",
     "output_type": "stream",
     "text": [
      "10000/10000 [==============================] - 2s 203us/step\n"
     ]
    },
    {
     "data": {
      "image/png": "[encoded data removed]",
      "text/plain": [
       "<Figure size 432x288 with 1 Axes>"
      ]
     },
     "metadata": {
      "needs_background": "light"
     },
     "output_type": "display_data"
    },
    {
     "data": {
      "image/png": "[encoded data removed]",
      "text/plain": [
       "<Figure size 432x288 with 1 Axes>"
      ]
     },
     "metadata": {
      "needs_background": "light"
     },
     "output_type": "display_data"
    }
   ],
   "source": [
    "losses=history['loss']\n",
    "val_losses=history['val_loss']\n",
    "ac=history['acc']\n",
    "val_ac=history['val_acc']\n",
    "\n",
    "import matplotlib.pyplot as plt\n",
    "plt.xlabel('Epochs')\n",
    "plt.ylabel('Loss')\n",
    "plt.plot(losses)\n",
    "plt.plot(val_losses)\n",
    "plt.legend(['loss','val_loss'])\n",
    "\n",
    "plt.figure()\n",
    "plt.xlabel('Epochs')\n",
    "plt.ylabel('accuracy')\n",
    "plt.plot(ac)\n",
    "plt.plot(val_ac)\n",
    "plt.legend(['acc','val_acc'])\n",
    "\n",
    "# =============================================================================\n",
    "# \n",
    "# Evaluation\n",
    "# =============================================================================\n",
    "\n",
    "predicted_labels=myModel.predict(pca_test_data)\n",
    "#plt.imshow (test_images[0],cmap='binary')\n",
    "test_loss,test_acc=myModel.evaluate(pca_test_data,y_test)"
   ]
  },
  {
   "cell_type": "code",
   "execution_count": 45,
   "metadata": {},
   "outputs": [
    {
     "name": "stdout",
     "output_type": "stream",
     "text": [
      "loss =  0.4048381613016129 acc =  0.856\n"
     ]
    }
   ],
   "source": [
    "print('loss = ',test_loss,'acc = ',test_acc)"
   ]
  },
  {
   "cell_type": "code",
   "execution_count": null,
   "metadata": {},
   "outputs": [],
   "source": []
  }
 ],
 "metadata": {
  "kernelspec": {
   "display_name": "Python 3",
   "language": "python",
   "name": "python3"
  },
  "language_info": {
   "codemirror_mode": {
    "name": "ipython",
    "version": 3
   },
   "file_extension": ".py",
   "mimetype": "text/x-python",
   "name": "python",
   "nbconvert_exporter": "python",
   "pygments_lexer": "ipython3",
   "version": "3.7.1"
  }
 },
 "nbformat": 4,
 "nbformat_minor": 2
}
