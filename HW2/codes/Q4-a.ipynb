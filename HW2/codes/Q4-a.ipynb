{
 "cells": [
  {
   "cell_type": "code",
   "execution_count": 1,
   "metadata": {},
   "outputs": [
    {
     "name": "stderr",
     "output_type": "stream",
     "text": [
      "Using TensorFlow backend.\n"
     ]
    }
   ],
   "source": [
    "from keras.datasets import fashion_mnist\n",
    "from keras.utils import to_categorical\n",
    "import numpy as np\n",
    "import matplotlib.pyplot as plt\n",
    "from keras.models import Sequential\n",
    "from keras.layers import Dense, Dropout, Flatten,Conv2D, MaxPooling2D, Activation\n",
    "from keras.layers.normalization import BatchNormalization\n",
    "from keras import optimizers\n",
    "import keras\n",
    "from sklearn.model_selection import train_test_split\n",
    "from keras.models import Model\n",
    "from keras import layers\n",
    "import datetime\n",
    "from keras.layers import Input,Dense,Flatten,Dropout,merge,Reshape,Conv2D,MaxPooling2D,UpSampling2D,Conv2DTranspose\n",
    "from keras.optimizers import RMSprop\n",
    "%matplotlib inline"
   ]
  },
  {
   "cell_type": "code",
   "execution_count": 2,
   "metadata": {},
   "outputs": [],
   "source": [
    "(X_train, y_train), (X_test, y_test) = fashion_mnist.load_data()"
   ]
  },
  {
   "cell_type": "code",
   "execution_count": 3,
   "metadata": {},
   "outputs": [],
   "source": [
    "X_train = X_train.astype('float32')\n",
    "X_test = X_test.astype('float32')\n",
    "X_train /= 255\n",
    "X_test /= 255\n",
    "y_train = to_categorical(y_train)\n",
    "y_test = to_categorical(y_test)"
   ]
  },
  {
   "cell_type": "code",
   "execution_count": 4,
   "metadata": {},
   "outputs": [],
   "source": [
    "X_train = X_train.reshape(X_train.shape[0],28,28,1)\n",
    "X_test = X_test.reshape(X_test.shape[0],28,28,1)"
   ]
  },
  {
   "cell_type": "code",
   "execution_count": 5,
   "metadata": {},
   "outputs": [],
   "source": [
    "my_input=layers.Input(shape=(28,28,1))"
   ]
  },
  {
   "cell_type": "code",
   "execution_count": 8,
   "metadata": {},
   "outputs": [],
   "source": [
    "def encoder(input_img):\n",
    "    #encoder\n",
    "    l1 = Conv2D(16, (3,3),strides = 1 , activation = 'relu',padding='same')(input_img)\n",
    "    l1 = MaxPooling2D((2,2))(l1)\n",
    "    l1 = Conv2D(8,(3,3),strides = 1, activation='relu',padding='same')(l1)\n",
    "    encoded = MaxPooling2D((2,2),padding = 'same')(l1)\n",
    "    return encoded\n",
    "\n",
    "def decoder(encoded):    \n",
    "    #decoder\n",
    "    l1 = Conv2DTranspose(8,(3,3),strides = 1,activation='relu',padding='same')(encoded)\n",
    "    l1 = UpSampling2D((2,2))(l1)\n",
    "    l1 = Conv2DTranspose(16,(3,3),strides = 1,activation='relu',padding = 'same')(l1)\n",
    "    l1 = UpSampling2D((2,2))(l1)\n",
    "    decoded = Conv2DTranspose(1,(3,3),strides = 1, activation='sigmoid',padding  ='same')(l1)\n",
    "    return decoded"
   ]
  },
  {
   "cell_type": "code",
   "execution_count": 19,
   "metadata": {},
   "outputs": [],
   "source": [
    "conv1=layers.Conv2D (64,3,activation='relu', padding='same',strides=1)(decoder(encoder(my_input)))\n",
    "pool1=layers.MaxPool2D(pool_size=2)(conv1)\n",
    "conv2=layers.Conv2D (64,3,activation='relu', padding='same',strides=1)(pool1)\n",
    "pool2=layers.MaxPool2D(pool_size=2)(conv2)\n",
    "flat=layers.Flatten()(pool2)\n",
    "out=layers.Dense(10,activation = 'softmax')(flat)\n",
    "autoencoder = Model(my_input, out)\n",
    "autoencoder.compile(loss='mean_squared_error', optimizer = RMSprop(), metrics=['accuracy'])"
   ]
  },
  {
   "cell_type": "code",
   "execution_count": 20,
   "metadata": {},
   "outputs": [
    {
     "name": "stdout",
     "output_type": "stream",
     "text": [
      "_________________________________________________________________\n",
      "Layer (type)                 Output Shape              Param #   \n",
      "=================================================================\n",
      "input_1 (InputLayer)         (None, 28, 28, 1)         0         \n",
      "_________________________________________________________________\n",
      "conv2d_10 (Conv2D)           (None, 28, 28, 16)        160       \n",
      "_________________________________________________________________\n",
      "max_pooling2d_9 (MaxPooling2 (None, 14, 14, 16)        0         \n",
      "_________________________________________________________________\n",
      "conv2d_11 (Conv2D)           (None, 14, 14, 8)         1160      \n",
      "_________________________________________________________________\n",
      "max_pooling2d_10 (MaxPooling (None, 7, 7, 8)           0         \n",
      "_________________________________________________________________\n",
      "conv2d_transpose_7 (Conv2DTr (None, 7, 7, 8)           584       \n",
      "_________________________________________________________________\n",
      "up_sampling2d_5 (UpSampling2 (None, 14, 14, 8)         0         \n",
      "_________________________________________________________________\n",
      "conv2d_transpose_8 (Conv2DTr (None, 14, 14, 16)        1168      \n",
      "_________________________________________________________________\n",
      "up_sampling2d_6 (UpSampling2 (None, 28, 28, 16)        0         \n",
      "_________________________________________________________________\n",
      "conv2d_transpose_9 (Conv2DTr (None, 28, 28, 1)         145       \n",
      "_________________________________________________________________\n",
      "conv2d_9 (Conv2D)            (None, 28, 28, 64)        640       \n",
      "_________________________________________________________________\n",
      "max_pooling2d_11 (MaxPooling (None, 14, 14, 64)        0         \n",
      "_________________________________________________________________\n",
      "conv2d_12 (Conv2D)           (None, 14, 14, 64)        36928     \n",
      "_________________________________________________________________\n",
      "max_pooling2d_12 (MaxPooling (None, 7, 7, 64)          0         \n",
      "_________________________________________________________________\n",
      "flatten_4 (Flatten)          (None, 3136)              0         \n",
      "_________________________________________________________________\n",
      "dense_4 (Dense)              (None, 10)                31370     \n",
      "=================================================================\n",
      "Total params: 72,155\n",
      "Trainable params: 72,155\n",
      "Non-trainable params: 0\n",
      "_________________________________________________________________\n"
     ]
    }
   ],
   "source": [
    "autoencoder.summary()"
   ]
  },
  {
   "cell_type": "code",
   "execution_count": 21,
   "metadata": {},
   "outputs": [
    {
     "name": "stdout",
     "output_type": "stream",
     "text": [
      "Train on 48000 samples, validate on 12000 samples\n",
      "Epoch 1/5\n",
      "48000/48000 [==============================] - 209s 4ms/step - loss: 0.0297 - acc: 0.7818 - val_loss: 0.0222 - val_acc: 0.8447\n",
      "Epoch 2/5\n",
      "48000/48000 [==============================] - 191s 4ms/step - loss: 0.0200 - acc: 0.8613 - val_loss: 0.0196 - val_acc: 0.8647\n",
      "Epoch 3/5\n",
      "48000/48000 [==============================] - 191s 4ms/step - loss: 0.0181 - acc: 0.8756 - val_loss: 0.0189 - val_acc: 0.8698\n",
      "Epoch 4/5\n",
      "48000/48000 [==============================] - 193s 4ms/step - loss: 0.0172 - acc: 0.8825 - val_loss: 0.0175 - val_acc: 0.8808\n",
      "Epoch 5/5\n",
      "48000/48000 [==============================] - 196s 4ms/step - loss: 0.0162 - acc: 0.8881 - val_loss: 0.0174 - val_acc: 0.8790\n"
     ]
    }
   ],
   "source": [
    "autoencoder_train = autoencoder.fit(X_train, y_train, batch_size=32,epochs=5,verbose=1, validation_split=0.2)"
   ]
  },
  {
   "cell_type": "code",
   "execution_count": 25,
   "metadata": {},
   "outputs": [],
   "source": [
    "history=autoencoder_train.history"
   ]
  },
  {
   "cell_type": "code",
   "execution_count": 26,
   "metadata": {},
   "outputs": [
    {
     "data": {
      "text/plain": [
       "<matplotlib.legend.Legend at 0x2d6aa0d7400>"
      ]
     },
     "execution_count": 26,
     "metadata": {},
     "output_type": "execute_result"
    },
    {
     "data": {
      "image/png": "[encoded data removed]",
      "text/plain": [
       "<Figure size 432x288 with 1 Axes>"
      ]
     },
     "metadata": {
      "needs_background": "light"
     },
     "output_type": "display_data"
    },
    {
     "data": {
      "image/png": "[encoded data removed]",
      "text/plain": [
       "<Figure size 432x288 with 1 Axes>"
      ]
     },
     "metadata": {
      "needs_background": "light"
     },
     "output_type": "display_data"
    }
   ],
   "source": [
    "losses=history['loss']\n",
    "val_losses=history['val_loss']\n",
    "ac=history['acc']\n",
    "val_ac=history['val_acc']\n",
    "\n",
    "import matplotlib.pyplot as plt\n",
    "plt.xlabel('Epochs')\n",
    "plt.ylabel('Loss')\n",
    "plt.plot(losses)\n",
    "plt.plot(val_losses)\n",
    "plt.legend(['loss','val_loss'])\n",
    "\n",
    "plt.figure()\n",
    "plt.xlabel('Epochs')\n",
    "plt.ylabel('accuracy')\n",
    "plt.plot(ac)\n",
    "plt.plot(val_ac)\n",
    "plt.legend(['acc','val_acc'])\n",
    "\n",
    "# =============================================================================\n",
    "# \n",
    "# Evaluation\n",
    "# =============================================================================\n",
    "\n"
   ]
  },
  {
   "cell_type": "code",
   "execution_count": 23,
   "metadata": {},
   "outputs": [
    {
     "name": "stdout",
     "output_type": "stream",
     "text": [
      "10000/10000 [==============================] - 15s 1ms/step\n"
     ]
    }
   ],
   "source": [
    "predicted_labels=autoencoder.predict(X_test)\n",
    "#plt.imshow (test_images[0],cmap='binary')\n",
    "test_loss,test_acc=autoencoder.evaluate(X_test,y_test)"
   ]
  },
  {
   "cell_type": "code",
   "execution_count": 27,
   "metadata": {},
   "outputs": [
    {
     "name": "stdout",
     "output_type": "stream",
     "text": [
      "loss =  0.017850303576886654 acc =  0.8772\n"
     ]
    }
   ],
   "source": [
    "print('loss = ',test_loss,'acc = ',test_acc)"
   ]
  },
  {
   "cell_type": "code",
   "execution_count": null,
   "metadata": {},
   "outputs": [],
   "source": []
  }
 ],
 "metadata": {
  "kernelspec": {
   "display_name": "Python 3",
   "language": "python",
   "name": "python3"
  },
  "language_info": {
   "codemirror_mode": {
    "name": "ipython",
    "version": 3
   },
   "file_extension": ".py",
   "mimetype": "text/x-python",
   "name": "python",
   "nbconvert_exporter": "python",
   "pygments_lexer": "ipython3",
   "version": "3.7.1"
  }
 },
 "nbformat": 4,
 "nbformat_minor": 2
}
