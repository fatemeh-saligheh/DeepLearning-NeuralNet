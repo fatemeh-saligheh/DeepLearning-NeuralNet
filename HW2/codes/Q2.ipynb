{
 "cells": [
  {
   "cell_type": "code",
   "execution_count": 1,
   "metadata": {},
   "outputs": [
    {
     "name": "stderr",
     "output_type": "stream",
     "text": [
      "Using TensorFlow backend.\n"
     ]
    }
   ],
   "source": [
    "import numpy as np # linear algebra\n",
    "import pandas as pd # data processing, CSV file I/O (e.g. pd.read_csv)\n",
    "from sklearn.preprocessing import StandardScaler # Used for scaling of data\n",
    "from sklearn.model_selection import train_test_split\n",
    "from keras.models import Sequential\n",
    "from keras.layers import Dense, Dropout\n",
    "from keras import metrics\n",
    "import seaborn as sns\n",
    "import matplotlib.pyplot as plt\n",
    "from keras import backend as K\n",
    "from keras.wrappers.scikit_learn import KerasRegressor\n",
    "from sklearn.preprocessing import MinMaxScaler\n",
    "from sklearn.metrics import accuracy_score, confusion_matrix"
   ]
  },
  {
   "cell_type": "code",
   "execution_count": 36,
   "metadata": {},
   "outputs": [],
   "source": [
    "df = pd.read_csv('House Sales.csv', index_col=0)"
   ]
  },
  {
   "cell_type": "code",
   "execution_count": 37,
   "metadata": {},
   "outputs": [
    {
     "data": {
      "text/html": [
       "<div>\n",
       "<style scoped>\n",
       "    .dataframe tbody tr th:only-of-type {\n",
       "        vertical-align: middle;\n",
       "    }\n",
       "\n",
       "    .dataframe tbody tr th {\n",
       "        vertical-align: top;\n",
       "    }\n",
       "\n",
       "    .dataframe thead th {\n",
       "        text-align: right;\n",
       "    }\n",
       "</style>\n",
       "<table border=\"1\" class=\"dataframe\">\n",
       "  <thead>\n",
       "    <tr style=\"text-align: right;\">\n",
       "      <th></th>\n",
       "      <th>date</th>\n",
       "      <th>price</th>\n",
       "      <th>bedrooms</th>\n",
       "      <th>bathrooms</th>\n",
       "      <th>sqft_living</th>\n",
       "      <th>sqft_lot</th>\n",
       "      <th>floors</th>\n",
       "      <th>waterfront</th>\n",
       "      <th>view</th>\n",
       "      <th>condition</th>\n",
       "      <th>grade</th>\n",
       "      <th>sqft_above</th>\n",
       "      <th>sqft_basement</th>\n",
       "      <th>yr_built</th>\n",
       "      <th>yr_renovated</th>\n",
       "      <th>zipcode</th>\n",
       "      <th>lat</th>\n",
       "      <th>long</th>\n",
       "      <th>sqft_living15</th>\n",
       "      <th>sqft_lot15</th>\n",
       "    </tr>\n",
       "    <tr>\n",
       "      <th>id</th>\n",
       "      <th></th>\n",
       "      <th></th>\n",
       "      <th></th>\n",
       "      <th></th>\n",
       "      <th></th>\n",
       "      <th></th>\n",
       "      <th></th>\n",
       "      <th></th>\n",
       "      <th></th>\n",
       "      <th></th>\n",
       "      <th></th>\n",
       "      <th></th>\n",
       "      <th></th>\n",
       "      <th></th>\n",
       "      <th></th>\n",
       "      <th></th>\n",
       "      <th></th>\n",
       "      <th></th>\n",
       "      <th></th>\n",
       "      <th></th>\n",
       "    </tr>\n",
       "  </thead>\n",
       "  <tbody>\n",
       "    <tr>\n",
       "      <th>263000018</th>\n",
       "      <td>20140521T000000</td>\n",
       "      <td>360000.0</td>\n",
       "      <td>3</td>\n",
       "      <td>2.50</td>\n",
       "      <td>1530</td>\n",
       "      <td>1131</td>\n",
       "      <td>3.0</td>\n",
       "      <td>0</td>\n",
       "      <td>0</td>\n",
       "      <td>3</td>\n",
       "      <td>8</td>\n",
       "      <td>1530</td>\n",
       "      <td>0</td>\n",
       "      <td>2009</td>\n",
       "      <td>0</td>\n",
       "      <td>98103</td>\n",
       "      <td>47.6993</td>\n",
       "      <td>-122.346</td>\n",
       "      <td>1530</td>\n",
       "      <td>1509</td>\n",
       "    </tr>\n",
       "    <tr>\n",
       "      <th>6600060120</th>\n",
       "      <td>20150223T000000</td>\n",
       "      <td>400000.0</td>\n",
       "      <td>4</td>\n",
       "      <td>2.50</td>\n",
       "      <td>2310</td>\n",
       "      <td>5813</td>\n",
       "      <td>2.0</td>\n",
       "      <td>0</td>\n",
       "      <td>0</td>\n",
       "      <td>3</td>\n",
       "      <td>8</td>\n",
       "      <td>2310</td>\n",
       "      <td>0</td>\n",
       "      <td>2014</td>\n",
       "      <td>0</td>\n",
       "      <td>98146</td>\n",
       "      <td>47.5107</td>\n",
       "      <td>-122.362</td>\n",
       "      <td>1830</td>\n",
       "      <td>7200</td>\n",
       "    </tr>\n",
       "    <tr>\n",
       "      <th>1523300141</th>\n",
       "      <td>20140623T000000</td>\n",
       "      <td>402101.0</td>\n",
       "      <td>2</td>\n",
       "      <td>0.75</td>\n",
       "      <td>1020</td>\n",
       "      <td>1350</td>\n",
       "      <td>2.0</td>\n",
       "      <td>0</td>\n",
       "      <td>0</td>\n",
       "      <td>3</td>\n",
       "      <td>7</td>\n",
       "      <td>1020</td>\n",
       "      <td>0</td>\n",
       "      <td>2009</td>\n",
       "      <td>0</td>\n",
       "      <td>98144</td>\n",
       "      <td>47.5944</td>\n",
       "      <td>-122.299</td>\n",
       "      <td>1020</td>\n",
       "      <td>2007</td>\n",
       "    </tr>\n",
       "    <tr>\n",
       "      <th>291310100</th>\n",
       "      <td>20150116T000000</td>\n",
       "      <td>400000.0</td>\n",
       "      <td>3</td>\n",
       "      <td>2.50</td>\n",
       "      <td>1600</td>\n",
       "      <td>2388</td>\n",
       "      <td>2.0</td>\n",
       "      <td>0</td>\n",
       "      <td>0</td>\n",
       "      <td>3</td>\n",
       "      <td>8</td>\n",
       "      <td>1600</td>\n",
       "      <td>0</td>\n",
       "      <td>2004</td>\n",
       "      <td>0</td>\n",
       "      <td>98027</td>\n",
       "      <td>47.5345</td>\n",
       "      <td>-122.069</td>\n",
       "      <td>1410</td>\n",
       "      <td>1287</td>\n",
       "    </tr>\n",
       "    <tr>\n",
       "      <th>1523300157</th>\n",
       "      <td>20141015T000000</td>\n",
       "      <td>325000.0</td>\n",
       "      <td>2</td>\n",
       "      <td>0.75</td>\n",
       "      <td>1020</td>\n",
       "      <td>1076</td>\n",
       "      <td>2.0</td>\n",
       "      <td>0</td>\n",
       "      <td>0</td>\n",
       "      <td>3</td>\n",
       "      <td>7</td>\n",
       "      <td>1020</td>\n",
       "      <td>0</td>\n",
       "      <td>2008</td>\n",
       "      <td>0</td>\n",
       "      <td>98144</td>\n",
       "      <td>47.5941</td>\n",
       "      <td>-122.299</td>\n",
       "      <td>1020</td>\n",
       "      <td>1357</td>\n",
       "    </tr>\n",
       "  </tbody>\n",
       "</table>\n",
       "</div>"
      ],
      "text/plain": [
       "                       date     price  bedrooms  bathrooms  sqft_living  \\\n",
       "id                                                                        \n",
       "263000018   20140521T000000  360000.0         3       2.50         1530   \n",
       "6600060120  20150223T000000  400000.0         4       2.50         2310   \n",
       "1523300141  20140623T000000  402101.0         2       0.75         1020   \n",
       "291310100   20150116T000000  400000.0         3       2.50         1600   \n",
       "1523300157  20141015T000000  325000.0         2       0.75         1020   \n",
       "\n",
       "            sqft_lot  floors  waterfront  view  condition  grade  sqft_above  \\\n",
       "id                                                                             \n",
       "263000018       1131     3.0           0     0          3      8        1530   \n",
       "6600060120      5813     2.0           0     0          3      8        2310   \n",
       "1523300141      1350     2.0           0     0          3      7        1020   \n",
       "291310100       2388     2.0           0     0          3      8        1600   \n",
       "1523300157      1076     2.0           0     0          3      7        1020   \n",
       "\n",
       "            sqft_basement  yr_built  yr_renovated  zipcode      lat     long  \\\n",
       "id                                                                             \n",
       "263000018               0      2009             0    98103  47.6993 -122.346   \n",
       "6600060120              0      2014             0    98146  47.5107 -122.362   \n",
       "1523300141              0      2009             0    98144  47.5944 -122.299   \n",
       "291310100               0      2004             0    98027  47.5345 -122.069   \n",
       "1523300157              0      2008             0    98144  47.5941 -122.299   \n",
       "\n",
       "            sqft_living15  sqft_lot15  \n",
       "id                                     \n",
       "263000018            1530        1509  \n",
       "6600060120           1830        7200  \n",
       "1523300141           1020        2007  \n",
       "291310100            1410        1287  \n",
       "1523300157           1020        1357  "
      ]
     },
     "execution_count": 37,
     "metadata": {},
     "output_type": "execute_result"
    }
   ],
   "source": [
    "df.tail()"
   ]
  },
  {
   "cell_type": "code",
   "execution_count": 38,
   "metadata": {},
   "outputs": [],
   "source": [
    "df = df.drop('waterfront', axis=1)\n",
    "df = df.drop('view', axis=1)\n",
    "df = df.drop('sqft_basement', axis=1)\n",
    "df = df.drop('yr_renovated', axis=1)\n"
   ]
  },
  {
   "cell_type": "code",
   "execution_count": 39,
   "metadata": {},
   "outputs": [],
   "source": [
    "saleprice_scaled = StandardScaler().fit_transform(df['price'][:,np.newaxis]);"
   ]
  },
  {
   "cell_type": "code",
   "execution_count": 40,
   "metadata": {},
   "outputs": [],
   "source": [
    "data = pd.get_dummies(df)"
   ]
  },
  {
   "cell_type": "code",
   "execution_count": 41,
   "metadata": {},
   "outputs": [],
   "source": [
    "scale = MinMaxScaler()"
   ]
  },
  {
   "cell_type": "code",
   "execution_count": 42,
   "metadata": {},
   "outputs": [],
   "source": [
    "from sklearn.model_selection import train_test_split\n",
    "# split the dataset into 2 training and 2 testing sets\n",
    "X_train, X_test, Y_train, Y_test = train_test_split(data.drop('price', axis=1), data['price'], test_size=0.2, random_state=42)"
   ]
  },
  {
   "cell_type": "code",
   "execution_count": 44,
   "metadata": {},
   "outputs": [],
   "source": [
    "X_train = scale.fit_transform(X_train)\n",
    "X_test = scale.fit_transform(X_test)"
   ]
  },
  {
   "cell_type": "code",
   "execution_count": 46,
   "metadata": {},
   "outputs": [
    {
     "name": "stdout",
     "output_type": "stream",
     "text": [
      "_________________________________________________________________\n",
      "Layer (type)                 Output Shape              Param #   \n",
      "=================================================================\n",
      "dense_12 (Dense)             (None, 128)               49536     \n",
      "_________________________________________________________________\n",
      "dense_13 (Dense)             (None, 1)                 129       \n",
      "=================================================================\n",
      "Total params: 49,665\n",
      "Trainable params: 49,665\n",
      "Non-trainable params: 0\n",
      "_________________________________________________________________\n"
     ]
    }
   ],
   "source": [
    "model = Sequential()\n",
    "model.add(Dense(128, input_dim=X_train.shape[1], activation='relu'))\n",
    "model.add(Dense(1))\n",
    "# Compile model\n",
    "model.compile(optimizer ='adam', loss = 'mean_squared_error', metrics =[metrics.mae])\n",
    "model.summary()"
   ]
  },
  {
   "cell_type": "code",
   "execution_count": 47,
   "metadata": {},
   "outputs": [
    {
     "name": "stdout",
     "output_type": "stream",
     "text": [
      "Train on 17290 samples, validate on 4323 samples\n",
      "Epoch 1/30\n",
      "17290/17290 [==============================] - 3s 150us/step - loss: 419738912757.3395 - mean_absolute_error: 537675.8595 - val_loss: 452657732557.5461 - val_mean_absolute_error: 549090.3040\n",
      "Epoch 2/30\n",
      "17290/17290 [==============================] - 2s 95us/step - loss: 419121594572.6816 - mean_absolute_error: 537131.6597 - val_loss: 451717680012.1693 - val_mean_absolute_error: 548284.6398\n",
      "Epoch 3/30\n",
      "17290/17290 [==============================] - 2s 92us/step - loss: 417952423832.7116 - mean_absolute_error: 536098.7993 - val_loss: 450259682420.7781 - val_mean_absolute_error: 547032.7382\n",
      "Epoch 4/30\n",
      "17290/17290 [==============================] - 2s 105us/step - loss: 416333657021.5496 - mean_absolute_error: 534656.5721 - val_loss: 448378407543.5021 - val_mean_absolute_error: 545413.2670\n",
      "Epoch 5/30\n",
      "17290/17290 [==============================] - 3s 149us/step - loss: 414327460881.8859 - mean_absolute_error: 532866.3598 - val_loss: 446123297543.5207 - val_mean_absolute_error: 543465.8991\n",
      "Epoch 6/30\n",
      "17290/17290 [==============================] - 2s 127us/step - loss: 411975488319.5188 - mean_absolute_error: 530773.7579 - val_loss: 443524683688.3572 - val_mean_absolute_error: 541213.5305\n",
      "Epoch 7/30\n",
      "17290/17290 [==============================] - 3s 154us/step - loss: 409306375977.6055 - mean_absolute_error: 528392.1361 - val_loss: 440614749077.1705 - val_mean_absolute_error: 538680.6905\n",
      "Epoch 8/30\n",
      "17290/17290 [==============================] - 2s 131us/step - loss: 406349698475.2490 - mean_absolute_error: 525722.2525 - val_loss: 437417697854.1790 - val_mean_absolute_error: 535884.7210\n",
      "Epoch 9/30\n",
      "17290/17290 [==============================] - 2s 131us/step - loss: 403128400436.0588 - mean_absolute_error: 522799.7086 - val_loss: 433953509539.9158 - val_mean_absolute_error: 532839.2197\n",
      "Epoch 10/30\n",
      "17290/17290 [==============================] - 2s 135us/step - loss: 399644199494.5369 - mean_absolute_error: 519644.8383 - val_loss: 430222762198.1328 - val_mean_absolute_error: 529540.6870\n",
      "Epoch 11/30\n",
      "17290/17290 [==============================] - 2s 136us/step - loss: 395920091149.0295 - mean_absolute_error: 516215.5136 - val_loss: 426254222934.1031 - val_mean_absolute_error: 526010.0372\n",
      "Epoch 12/30\n",
      "17290/17290 [==============================] - 2s 128us/step - loss: 391961874482.6966 - mean_absolute_error: 512581.1606 - val_loss: 422039808379.4698 - val_mean_absolute_error: 522235.5639\n",
      "Epoch 13/30\n",
      "17290/17290 [==============================] - 2s 140us/step - loss: 387783625714.8521 - mean_absolute_error: 508684.4280 - val_loss: 417613458283.9547 - val_mean_absolute_error: 518242.6801\n",
      "Epoch 14/30\n",
      "17290/17290 [==============================] - 2s 125us/step - loss: 383388622481.2789 - mean_absolute_error: 504590.3691 - val_loss: 412949980157.3944 - val_mean_absolute_error: 514003.9440\n",
      "Epoch 15/30\n",
      "17290/17290 [==============================] - 2s 135us/step - loss: 378788495270.9256 - mean_absolute_error: 500236.0750 - val_loss: 408087479886.5233 - val_mean_absolute_error: 509548.2421\n",
      "Epoch 16/30\n",
      "17290/17290 [==============================] - 2s 110us/step - loss: 373982648653.7921 - mean_absolute_error: 495682.1195 - val_loss: 403016747552.3331 - val_mean_absolute_error: 504861.7929\n",
      "Epoch 17/30\n",
      "17290/17290 [==============================] - 3s 146us/step - loss: 368988987235.6460 - mean_absolute_error: 490878.1664 - val_loss: 397754720166.9359 - val_mean_absolute_error: 499954.0881\n",
      "Epoch 18/30\n",
      "17290/17290 [==============================] - 2s 132us/step - loss: 363817443065.5148 - mean_absolute_error: 485860.1926 - val_loss: 392309529648.0851 - val_mean_absolute_error: 494826.5081\n",
      "Epoch 19/30\n",
      "17290/17290 [==============================] - 2s 124us/step - loss: 358475585670.7961 - mean_absolute_error: 480622.0230 - val_loss: 386688417106.0171 - val_mean_absolute_error: 489479.2949\n",
      "Epoch 20/30\n",
      "17290/17290 [==============================] - 2s 110us/step - loss: 352962324637.0647 - mean_absolute_error: 475177.7646 - val_loss: 380886001114.9294 - val_mean_absolute_error: 483900.4542\n",
      "Epoch 21/30\n",
      "17290/17290 [==============================] - 2s 119us/step - loss: 347289628045.1628 - mean_absolute_error: 469506.9228 - val_loss: 374931579075.1830 - val_mean_absolute_error: 478110.7743\n",
      "Epoch 22/30\n",
      "17290/17290 [==============================] - 2s 109us/step - loss: 341470896030.3972 - mean_absolute_error: 463614.5045 - val_loss: 368831071125.1705 - val_mean_absolute_error: 472108.7960\n",
      "Epoch 23/30\n",
      "17290/17290 [==============================] - 2s 127us/step - loss: 335521986022.9478 - mean_absolute_error: 457486.5198 - val_loss: 362591535420.4617 - val_mean_absolute_error: 465893.6976\n",
      "Epoch 24/30\n",
      "17290/17290 [==============================] - 2s 127us/step - loss: 329453117909.0619 - mean_absolute_error: 451186.8141 - val_loss: 356224807797.9033 - val_mean_absolute_error: 459469.2925\n",
      "Epoch 25/30\n",
      "17290/17290 [==============================] - 2s 118us/step - loss: 323264853094.2223 - mean_absolute_error: 444645.6127 - val_loss: 349744625991.3578 - val_mean_absolute_error: 452841.1385\n",
      "Epoch 26/30\n",
      "17290/17290 [==============================] - 2s 135us/step - loss: 316956535640.3933 - mean_absolute_error: 437958.8311 - val_loss: 343140974480.1962 - val_mean_absolute_error: 445990.4810\n",
      "Epoch 27/30\n",
      "17290/17290 [==============================] - 2s 112us/step - loss: 310552193751.5197 - mean_absolute_error: 430976.3619 - val_loss: 336442203856.8032 - val_mean_absolute_error: 438938.4624\n",
      "Epoch 28/30\n",
      "17290/17290 [==============================] - 2s 104us/step - loss: 304059842848.0704 - mean_absolute_error: 423840.1331 - val_loss: 329647369729.3028 - val_mean_absolute_error: 431677.2267\n",
      "Epoch 29/30\n",
      "17290/17290 [==============================] - 2s 95us/step - loss: 297493783681.2289 - mean_absolute_error: 416476.0974 - val_loss: 322782400624.7513 - val_mean_absolute_error: 424221.5094\n",
      "Epoch 30/30\n",
      "17290/17290 [==============================] - 2s 98us/step - loss: 290857938529.4251 - mean_absolute_error: 408961.1520 - val_loss: 315837554525.0317 - val_mean_absolute_error: 416556.2588\n"
     ]
    }
   ],
   "source": [
    "history = model.fit(X_train, Y_train, validation_data=(X_test,Y_test), epochs=30, batch_size=32)"
   ]
  },
  {
   "cell_type": "code",
   "execution_count": 48,
   "metadata": {},
   "outputs": [
    {
     "data": {
      "image/png": "[encoded data removed]",
      "text/plain": [
       "<Figure size 432x288 with 1 Axes>"
      ]
     },
     "metadata": {
      "needs_background": "light"
     },
     "output_type": "display_data"
    },
    {
     "data": {
      "image/png": "[encoded data removed]",
      "text/plain": [
       "<Figure size 432x288 with 1 Axes>"
      ]
     },
     "metadata": {
      "needs_background": "light"
     },
     "output_type": "display_data"
    }
   ],
   "source": [
    "plt.plot(history.history['mean_absolute_error'])\n",
    "plt.plot(history.history['val_mean_absolute_error'])\n",
    "plt.title('mean_absolute_error')\n",
    "plt.ylabel('mean_absolute_error')\n",
    "plt.xlabel('epoch')\n",
    "plt.legend(['train', 'test'], loc='upper left')\n",
    "plt.show()\n",
    "# summarize history for loss\n",
    "plt.plot(history.history['loss'])\n",
    "plt.plot(history.history['val_loss'])\n",
    "plt.title('model loss')\n",
    "plt.ylabel('loss')\n",
    "plt.xlabel('epoch')\n",
    "plt.legend(['train', 'test'], loc='upper left')\n",
    "plt.show()"
   ]
  },
  {
   "cell_type": "code",
   "execution_count": 49,
   "metadata": {},
   "outputs": [],
   "source": [
    "prediction = model.predict(X_test)"
   ]
  },
  {
   "cell_type": "code",
   "execution_count": 50,
   "metadata": {},
   "outputs": [
    {
     "name": "stdout",
     "output_type": "stream",
     "text": [
      "4323/4323 [==============================] - 0s 25us/step\n"
     ]
    }
   ],
   "source": [
    "test_loss,test_acc=model.evaluate(X_test,Y_test)"
   ]
  },
  {
   "cell_type": "code",
   "execution_count": 51,
   "metadata": {},
   "outputs": [
    {
     "name": "stdout",
     "output_type": "stream",
     "text": [
      "loss =  315837554525.0317 acc =  416556.2588191071\n"
     ]
    }
   ],
   "source": [
    "print('loss = ',test_loss,'acc = ',test_acc)"
   ]
  },
  {
   "cell_type": "code",
   "execution_count": 52,
   "metadata": {},
   "outputs": [
    {
     "name": "stdout",
     "output_type": "stream",
     "text": [
      "_________________________________________________________________\n",
      "Layer (type)                 Output Shape              Param #   \n",
      "=================================================================\n",
      "dense_14 (Dense)             (None, 64)                24768     \n",
      "_________________________________________________________________\n",
      "dense_16 (Dense)             (None, 1)                 65        \n",
      "=================================================================\n",
      "Total params: 24,833\n",
      "Trainable params: 24,833\n",
      "Non-trainable params: 0\n",
      "_________________________________________________________________\n"
     ]
    }
   ],
   "source": [
    "model2 = Sequential()\n",
    "model2.add(Dense(64, input_dim=X_train.shape[1], activation='relu'))\n",
    "model.add(Dense(64, activation='relu'))\n",
    "model2.add(Dense(1))\n",
    "# Compile model\n",
    "model2.compile(optimizer ='adam', loss = 'mean_squared_error', metrics =[metrics.mae])\n",
    "model2.summary()"
   ]
  },
  {
   "cell_type": "code",
   "execution_count": 53,
   "metadata": {},
   "outputs": [
    {
     "name": "stdout",
     "output_type": "stream",
     "text": [
      "Train on 17290 samples, validate on 4323 samples\n",
      "Epoch 1/30\n",
      "17290/17290 [==============================] - 2s 121us/step - loss: 419777261841.3826 - mean_absolute_error: 537710.0445 - val_loss: 452780004450.7759 - val_mean_absolute_error: 549195.0715\n",
      "Epoch 2/30\n",
      "17290/17290 [==============================] - 1s 76us/step - loss: 419402593848.4414 - mean_absolute_error: 537377.1929 - val_loss: 452211662175.2820 - val_mean_absolute_error: 548708.1122\n",
      "Epoch 3/30\n",
      "17290/17290 [==============================] - 1s 74us/step - loss: 418693805455.7687 - mean_absolute_error: 536749.9600 - val_loss: 451326219719.0321 - val_mean_absolute_error: 547948.6776\n",
      "Epoch 4/30\n",
      "17290/17290 [==============================] - 1s 82us/step - loss: 417702690234.1738 - mean_absolute_error: 535874.5886 - val_loss: 450172063805.5868 - val_mean_absolute_error: 546957.2870\n",
      "Epoch 5/30\n",
      "17290/17290 [==============================] - 1s 79us/step - loss: 416471485514.0312 - mean_absolute_error: 534782.2852 - val_loss: 448785925896.2313 - val_mean_absolute_error: 545764.4121\n",
      "Epoch 6/30\n",
      "17290/17290 [==============================] - 1s 76us/step - loss: 415028447655.3401 - mean_absolute_error: 533498.1146 - val_loss: 447192636043.3995 - val_mean_absolute_error: 544390.0745\n",
      "Epoch 7/30\n",
      "17290/17290 [==============================] - 1s 77us/step - loss: 413392108635.5618 - mean_absolute_error: 532040.9844 - val_loss: 445406438867.3495 - val_mean_absolute_error: 542845.3983\n",
      "Epoch 8/30\n",
      "17290/17290 [==============================] - 1s 79us/step - loss: 411571433066.9011 - mean_absolute_error: 530416.6025 - val_loss: 443434780003.5457 - val_mean_absolute_error: 541135.4888\n",
      "Epoch 9/30\n",
      "17290/17290 [==============================] - 1s 79us/step - loss: 409583208497.9859 - mean_absolute_error: 528626.7901 - val_loss: 441295255030.4066 - val_mean_absolute_error: 539274.0315\n",
      "Epoch 10/30\n",
      "17290/17290 [==============================] - 1s 77us/step - loss: 407431180682.6753 - mean_absolute_error: 526691.8919 - val_loss: 438991529760.8661 - val_mean_absolute_error: 537262.7369\n",
      "Epoch 11/30\n",
      "17290/17290 [==============================] - 1s 84us/step - loss: 405120968787.1519 - mean_absolute_error: 524607.0270 - val_loss: 436524456049.2251 - val_mean_absolute_error: 535100.8621\n",
      "Epoch 12/30\n",
      "17290/17290 [==============================] - 1s 81us/step - loss: 402657097856.1629 - mean_absolute_error: 522375.2526 - val_loss: 433897501796.6708 - val_mean_absolute_error: 532789.6706\n",
      "Epoch 13/30\n",
      "17290/17290 [==============================] - 1s 76us/step - loss: 400040768413.3312 - mean_absolute_error: 519998.2914 - val_loss: 431117265980.4025 - val_mean_absolute_error: 530333.0909\n",
      "Epoch 14/30\n",
      "17290/17290 [==============================] - 1s 77us/step - loss: 397281143403.4933 - mean_absolute_error: 517472.2781 - val_loss: 428191713248.2591 - val_mean_absolute_error: 527736.2431\n",
      "Epoch 15/30\n",
      "17290/17290 [==============================] - 1s 76us/step - loss: 394384123977.6759 - mean_absolute_error: 514802.1326 - val_loss: 425128093976.9308 - val_mean_absolute_error: 525003.5473\n",
      "Epoch 16/30\n",
      "17290/17290 [==============================] - 1s 77us/step - loss: 391350186403.3129 - mean_absolute_error: 512002.8516 - val_loss: 421918696820.6005 - val_mean_absolute_error: 522126.2325\n",
      "Epoch 17/30\n",
      "17290/17290 [==============================] - 1s 76us/step - loss: 388181323289.4075 - mean_absolute_error: 509055.6950 - val_loss: 418576615278.5602 - val_mean_absolute_error: 519113.5944\n",
      "Epoch 18/30\n",
      "17290/17290 [==============================] - 2s 102us/step - loss: 384881101329.4714 - mean_absolute_error: 505977.8437 - val_loss: 415091592409.6859 - val_mean_absolute_error: 515954.2051\n",
      "Epoch 19/30\n",
      "17290/17290 [==============================] - 2s 96us/step - loss: 381452022569.7240 - mean_absolute_error: 502761.2079 - val_loss: 411480028120.4423 - val_mean_absolute_error: 512660.4407\n",
      "Epoch 20/30\n",
      "17290/17290 [==============================] - 1s 86us/step - loss: 377899133975.8084 - mean_absolute_error: 499398.6530 - val_loss: 407745261377.5545 - val_mean_absolute_error: 509232.8565\n",
      "Epoch 21/30\n",
      "17290/17290 [==============================] - 2s 91us/step - loss: 374228854954.3311 - mean_absolute_error: 495899.9881 - val_loss: 403882400497.7285 - val_mean_absolute_error: 505664.2847\n",
      "Epoch 22/30\n",
      "17290/17290 [==============================] - 1s 86us/step - loss: 370439390893.4700 - mean_absolute_error: 492275.6882 - val_loss: 399904782136.5533 - val_mean_absolute_error: 501964.3766\n",
      "Epoch 23/30\n",
      "17290/17290 [==============================] - 1s 82us/step - loss: 366537507687.7918 - mean_absolute_error: 488500.0025 - val_loss: 395811585574.2549 - val_mean_absolute_error: 498129.5225\n",
      "Epoch 24/30\n",
      "17290/17290 [==============================] - 2s 97us/step - loss: 362527897261.9438 - mean_absolute_error: 484605.4280 - val_loss: 391599700098.2799 - val_mean_absolute_error: 494153.6227\n",
      "Epoch 25/30\n",
      "17290/17290 [==============================] - 2s 117us/step - loss: 358412156873.0392 - mean_absolute_error: 480571.3653 - val_loss: 387282080711.3875 - val_mean_absolute_error: 490045.9809\n",
      "Epoch 26/30\n",
      "17290/17290 [==============================] - 2s 91us/step - loss: 354195931613.5903 - mean_absolute_error: 476397.6501 - val_loss: 382866532651.8806 - val_mean_absolute_error: 485810.7522\n",
      "Epoch 27/30\n",
      "17290/17290 [==============================] - 2s 94us/step - loss: 349884765760.9698 - mean_absolute_error: 472085.5443 - val_loss: 378349532563.8677 - val_mean_absolute_error: 481441.5015\n",
      "Epoch 28/30\n",
      "17290/17290 [==============================] - 2s 107us/step - loss: 345479285257.8906 - mean_absolute_error: 467672.3769 - val_loss: 373737294826.9183 - val_mean_absolute_error: 476940.5170\n",
      "Epoch 29/30\n",
      "17290/17290 [==============================] - 2s 101us/step - loss: 340984454105.7407 - mean_absolute_error: 463103.9028 - val_loss: 369030190044.2322 - val_mean_absolute_error: 472304.6844\n",
      "Epoch 30/30\n",
      "17290/17290 [==============================] - 2s 110us/step - loss: 336413889900.7075 - mean_absolute_error: 458414.9001 - val_loss: 364246222575.5966 - val_mean_absolute_error: 467548.1944\n"
     ]
    }
   ],
   "source": [
    "history = model2.fit(X_train, Y_train, validation_data=(X_test,Y_test), epochs=30, batch_size=32)"
   ]
  },
  {
   "cell_type": "code",
   "execution_count": 54,
   "metadata": {},
   "outputs": [
    {
     "data": {
      "image/png": "[encoded data removed]",
      "text/plain": [
       "<Figure size 432x288 with 1 Axes>"
      ]
     },
     "metadata": {
      "needs_background": "light"
     },
     "output_type": "display_data"
    },
    {
     "data": {
      "image/png": "[encoded data removed]",
      "text/plain": [
       "<Figure size 432x288 with 1 Axes>"
      ]
     },
     "metadata": {
      "needs_background": "light"
     },
     "output_type": "display_data"
    }
   ],
   "source": [
    "plt.plot(history.history['mean_absolute_error'])\n",
    "plt.plot(history.history['val_mean_absolute_error'])\n",
    "plt.title('mean_absolute_error')\n",
    "plt.ylabel('mean_absolute_error')\n",
    "plt.xlabel('epoch')\n",
    "plt.legend(['train', 'test'], loc='upper left')\n",
    "plt.show()\n",
    "# summarize history for loss\n",
    "plt.plot(history.history['loss'])\n",
    "plt.plot(history.history['val_loss'])\n",
    "plt.title('model loss')\n",
    "plt.ylabel('loss')\n",
    "plt.xlabel('epoch')\n",
    "plt.legend(['train', 'test'], loc='upper left')\n",
    "plt.show()"
   ]
  },
  {
   "cell_type": "code",
   "execution_count": 55,
   "metadata": {},
   "outputs": [],
   "source": [
    "prediction = model2.predict(X_test)"
   ]
  },
  {
   "cell_type": "code",
   "execution_count": 56,
   "metadata": {},
   "outputs": [
    {
     "name": "stdout",
     "output_type": "stream",
     "text": [
      "4323/4323 [==============================] - 0s 33us/step\n"
     ]
    }
   ],
   "source": [
    "test_loss,test_acc=model2.evaluate(X_test,Y_test)"
   ]
  },
  {
   "cell_type": "code",
   "execution_count": 57,
   "metadata": {},
   "outputs": [
    {
     "name": "stdout",
     "output_type": "stream",
     "text": [
      "loss =  364246222575.59656 acc =  467548.1944034814\n"
     ]
    }
   ],
   "source": [
    "print('loss = ',test_loss,'acc = ',test_acc)"
   ]
  },
  {
   "cell_type": "code",
   "execution_count": null,
   "metadata": {},
   "outputs": [],
   "source": []
  }
 ],
 "metadata": {
  "kernelspec": {
   "display_name": "Python 3",
   "language": "python",
   "name": "python3"
  },
  "language_info": {
   "codemirror_mode": {
    "name": "ipython",
    "version": 3
   },
   "file_extension": ".py",
   "mimetype": "text/x-python",
   "name": "python",
   "nbconvert_exporter": "python",
   "pygments_lexer": "ipython3",
   "version": "3.7.1"
  }
 },
 "nbformat": 4,
 "nbformat_minor": 2
}
