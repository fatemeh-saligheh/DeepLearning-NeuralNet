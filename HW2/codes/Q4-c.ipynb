{
 "cells": [
  {
   "cell_type": "code",
   "execution_count": 1,
   "metadata": {},
   "outputs": [
    {
     "name": "stderr",
     "output_type": "stream",
     "text": [
      "Using TensorFlow backend.\n"
     ]
    }
   ],
   "source": [
    "from keras.datasets import fashion_mnist\n",
    "from keras.utils import to_categorical\n",
    "import numpy as np\n",
    "import matplotlib.pyplot as plt\n",
    "from keras.models import Sequential\n",
    "from keras.layers import Dense, Dropout, Flatten,Conv2D, MaxPooling2D, Activation\n",
    "from keras.layers.normalization import BatchNormalization\n",
    "from keras import optimizers\n",
    "import keras\n",
    "from sklearn.model_selection import train_test_split\n",
    "from keras.models import Model\n",
    "from keras import layers\n",
    "import datetime\n",
    "%matplotlib inline"
   ]
  },
  {
   "cell_type": "code",
   "execution_count": 2,
   "metadata": {},
   "outputs": [],
   "source": [
    "(X_train, y_train), (X_test, y_test) = fashion_mnist.load_data()"
   ]
  },
  {
   "cell_type": "code",
   "execution_count": 3,
   "metadata": {},
   "outputs": [],
   "source": [
    "X_train = X_train.reshape(60000, 784)\n",
    "X_test = X_test.reshape(10000, 784)"
   ]
  },
  {
   "cell_type": "code",
   "execution_count": 4,
   "metadata": {},
   "outputs": [],
   "source": [
    "X_train = X_train.astype('float32')\n",
    "X_test = X_test.astype('float32')\n",
    "X_train /= 255\n",
    "X_test /= 255\n",
    "y_train = to_categorical(y_train)\n",
    "y_test = to_categorical(y_test)"
   ]
  },
  {
   "cell_type": "code",
   "execution_count": 5,
   "metadata": {},
   "outputs": [
    {
     "name": "stdout",
     "output_type": "stream",
     "text": [
      "[BernoulliRBM] Iteration 1, pseudo-likelihood = -228.89, time = 34.14s\n",
      "[BernoulliRBM] Iteration 2, pseudo-likelihood = -221.58, time = 36.45s\n",
      "[BernoulliRBM] Iteration 3, pseudo-likelihood = -216.91, time = 35.29s\n",
      "[BernoulliRBM] Iteration 4, pseudo-likelihood = -219.06, time = 33.53s\n",
      "[BernoulliRBM] Iteration 5, pseudo-likelihood = -211.63, time = 33.66s\n",
      "[BernoulliRBM] Iteration 6, pseudo-likelihood = -212.48, time = 33.58s\n",
      "[BernoulliRBM] Iteration 7, pseudo-likelihood = -212.08, time = 33.72s\n",
      "[BernoulliRBM] Iteration 8, pseudo-likelihood = -211.92, time = 37.62s\n",
      "[BernoulliRBM] Iteration 9, pseudo-likelihood = -215.03, time = 37.97s\n",
      "[BernoulliRBM] Iteration 10, pseudo-likelihood = -213.77, time = 39.42s\n"
     ]
    }
   ],
   "source": [
    "from sklearn.neural_network import BernoulliRBM\n",
    "\n",
    "MyRBM = BernoulliRBM(n_components=200, n_iter=10, batch_size=10, verbose=1)\n",
    "X_train = MyRBM.fit_transform(X_train)\n",
    "X_test = MyRBM.transform(X_test)"
   ]
  },
  {
   "cell_type": "code",
   "execution_count": 7,
   "metadata": {},
   "outputs": [
    {
     "name": "stdout",
     "output_type": "stream",
     "text": [
      "[BernoulliRBM] Iteration 1, pseudo-likelihood = -7.16, time = 3.42s\n",
      "[BernoulliRBM] Iteration 2, pseudo-likelihood = -7.31, time = 4.25s\n",
      "[BernoulliRBM] Iteration 3, pseudo-likelihood = -7.29, time = 4.16s\n",
      "[BernoulliRBM] Iteration 4, pseudo-likelihood = -5.87, time = 4.16s\n",
      "[BernoulliRBM] Iteration 5, pseudo-likelihood = -6.38, time = 4.58s\n",
      "[BernoulliRBM] Iteration 6, pseudo-likelihood = -6.40, time = 4.91s\n",
      "[BernoulliRBM] Iteration 7, pseudo-likelihood = -6.01, time = 5.40s\n",
      "[BernoulliRBM] Iteration 8, pseudo-likelihood = -5.36, time = 4.48s\n",
      "[BernoulliRBM] Iteration 9, pseudo-likelihood = -6.10, time = 4.45s\n",
      "[BernoulliRBM] Iteration 10, pseudo-likelihood = -5.96, time = 5.04s\n"
     ]
    }
   ],
   "source": [
    "MyRBM = BernoulliRBM(n_components=100, n_iter=10, batch_size=10, verbose=1)\n",
    "X_train = MyRBM.fit_transform(X_train)\n",
    "X_test = MyRBM.transform(X_test)"
   ]
  },
  {
   "cell_type": "code",
   "execution_count": 9,
   "metadata": {},
   "outputs": [],
   "source": [
    "X_train = X_train.reshape(X_train.shape[0],10,10,1)\n",
    "X_test = X_test.reshape(X_test.shape[0],10,10,1)"
   ]
  },
  {
   "cell_type": "code",
   "execution_count": 10,
   "metadata": {},
   "outputs": [
    {
     "name": "stdout",
     "output_type": "stream",
     "text": [
      "WARNING:tensorflow:From C:\\Users\\Fatemeh Saligheh\\Anaconda3\\lib\\site-packages\\tensorflow\\python\\framework\\op_def_library.py:263: colocate_with (from tensorflow.python.framework.ops) is deprecated and will be removed in a future version.\n",
      "Instructions for updating:\n",
      "Colocations handled automatically by placer.\n",
      "_________________________________________________________________\n",
      "Layer (type)                 Output Shape              Param #   \n",
      "=================================================================\n",
      "input_1 (InputLayer)         (None, 10, 10, 1)         0         \n",
      "_________________________________________________________________\n",
      "conv2d_1 (Conv2D)            (None, 10, 10, 64)        640       \n",
      "_________________________________________________________________\n",
      "max_pooling2d_1 (MaxPooling2 (None, 5, 5, 64)          0         \n",
      "_________________________________________________________________\n",
      "conv2d_2 (Conv2D)            (None, 5, 5, 64)          36928     \n",
      "_________________________________________________________________\n",
      "max_pooling2d_2 (MaxPooling2 (None, 2, 2, 64)          0         \n",
      "_________________________________________________________________\n",
      "flatten_1 (Flatten)          (None, 256)               0         \n",
      "_________________________________________________________________\n",
      "dense_1 (Dense)              (None, 10)                2570      \n",
      "=================================================================\n",
      "Total params: 40,138\n",
      "Trainable params: 40,138\n",
      "Non-trainable params: 0\n",
      "_________________________________________________________________\n"
     ]
    }
   ],
   "source": [
    "my_input=layers.Input(shape=(10,10,1))\n",
    "conv1=layers.Conv2D (64,3,activation='relu', padding='same',strides=1)(my_input)\n",
    "pool1=layers.MaxPool2D(pool_size=2)(conv1)\n",
    "conv2=layers.Conv2D (64,3,activation='relu', padding='same',strides=1)(pool1)\n",
    "pool2=layers.MaxPool2D(pool_size=2)(conv2)\n",
    "flat=layers.Flatten()(pool2)\n",
    "out=layers.Dense(10,activation = 'softmax')(flat)\n",
    "\n",
    "myModel=Model(my_input,out)\n",
    "\n",
    "myModel.summary()\n",
    "myModel.compile(optimizer='Adam', loss='categorical_crossentropy', metrics=['accuracy'])"
   ]
  },
  {
   "cell_type": "code",
   "execution_count": 11,
   "metadata": {},
   "outputs": [
    {
     "name": "stdout",
     "output_type": "stream",
     "text": [
      "WARNING:tensorflow:From C:\\Users\\Fatemeh Saligheh\\Anaconda3\\lib\\site-packages\\tensorflow\\python\\ops\\math_ops.py:3066: to_int32 (from tensorflow.python.ops.math_ops) is deprecated and will be removed in a future version.\n",
      "Instructions for updating:\n",
      "Use tf.cast instead.\n",
      "Train on 48000 samples, validate on 12000 samples\n",
      "Epoch 1/5\n",
      "48000/48000 [==============================] - 20s 415us/step - loss: 0.7134 - acc: 0.7221 - val_loss: 0.6344 - val_acc: 0.7351\n",
      "Epoch 2/5\n",
      "48000/48000 [==============================] - 18s 372us/step - loss: 0.6170 - acc: 0.7467 - val_loss: 0.6223 - val_acc: 0.7422\n",
      "Epoch 3/5\n",
      "48000/48000 [==============================] - 17s 359us/step - loss: 0.6020 - acc: 0.7528 - val_loss: 0.6011 - val_acc: 0.7528\n",
      "Epoch 4/5\n",
      "48000/48000 [==============================] - 20s 413us/step - loss: 0.5927 - acc: 0.7567 - val_loss: 0.5906 - val_acc: 0.7540\n",
      "Epoch 5/5\n",
      "48000/48000 [==============================] - 17s 354us/step - loss: 0.5849 - acc: 0.7593 - val_loss: 0.5858 - val_acc: 0.7623\n",
      "Total_time_training: 0:01:32.440293\n"
     ]
    }
   ],
   "source": [
    "start=datetime.datetime.now()\n",
    "trained_model=myModel.fit(X_train,y_train , batch_size=32 , epochs=5 , validation_split=0.2)\n",
    "end=datetime.datetime.now()\n",
    "Total_time_training=end-start\n",
    "\n",
    "print ('Total_time_training:',Total_time_training )\n",
    "\n",
    "history=trained_model.history"
   ]
  },
  {
   "cell_type": "code",
   "execution_count": 13,
   "metadata": {},
   "outputs": [
    {
     "name": "stdout",
     "output_type": "stream",
     "text": [
      "10000/10000 [==============================] - 2s 180us/step\n"
     ]
    },
    {
     "data": {
      "image/png": "[encoded data removed]",
      "text/plain": [
       "<Figure size 432x288 with 1 Axes>"
      ]
     },
     "metadata": {
      "needs_background": "light"
     },
     "output_type": "display_data"
    },
    {
     "data": {
      "image/png": "[encoded data removed]",
      "text/plain": [
       "<Figure size 432x288 with 1 Axes>"
      ]
     },
     "metadata": {
      "needs_background": "light"
     },
     "output_type": "display_data"
    }
   ],
   "source": [
    "losses=history['loss']\n",
    "val_losses=history['val_loss']\n",
    "ac=history['acc']\n",
    "val_ac=history['val_acc']\n",
    "\n",
    "import matplotlib.pyplot as plt\n",
    "plt.xlabel('Epochs')\n",
    "plt.ylabel('Loss')\n",
    "plt.plot(losses)\n",
    "plt.plot(val_losses)\n",
    "plt.legend(['loss','val_loss'])\n",
    "\n",
    "plt.figure()\n",
    "plt.xlabel('Epochs')\n",
    "plt.ylabel('accuracy')\n",
    "plt.plot(ac)\n",
    "plt.plot(val_ac)\n",
    "plt.legend(['acc','val_acc'])\n",
    "\n",
    "# =============================================================================\n",
    "# \n",
    "# Evaluation\n",
    "# =============================================================================\n",
    "\n",
    "predicted_labels=myModel.predict(X_test)\n",
    "#plt.imshow (test_images[0],cmap='binary')\n",
    "test_loss,test_acc=myModel.evaluate(X_test,y_test)"
   ]
  },
  {
   "cell_type": "code",
   "execution_count": 14,
   "metadata": {},
   "outputs": [
    {
     "name": "stdout",
     "output_type": "stream",
     "text": [
      "loss =  0.6026631363868713 acc =  0.7606\n"
     ]
    }
   ],
   "source": [
    "print('loss = ',test_loss,'acc = ',test_acc)"
   ]
  },
  {
   "cell_type": "code",
   "execution_count": null,
   "metadata": {},
   "outputs": [],
   "source": []
  }
 ],
 "metadata": {
  "kernelspec": {
   "display_name": "Python 3",
   "language": "python",
   "name": "python3"
  },
  "language_info": {
   "codemirror_mode": {
    "name": "ipython",
    "version": 3
   },
   "file_extension": ".py",
   "mimetype": "text/x-python",
   "name": "python",
   "nbconvert_exporter": "python",
   "pygments_lexer": "ipython3",
   "version": "3.7.1"
  }
 },
 "nbformat": 4,
 "nbformat_minor": 2
}
